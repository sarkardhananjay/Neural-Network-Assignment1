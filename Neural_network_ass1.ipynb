{
  "nbformat": 4,
  "nbformat_minor": 0,
  "metadata": {
    "colab": {
      "provenance": []
    },
    "kernelspec": {
      "name": "python3",
      "display_name": "Python 3"
    },
    "language_info": {
      "name": "python"
    }
  },
  "cells": [
    {
      "cell_type": "markdown",
      "source": [
        "Import Libraries"
      ],
      "metadata": {
        "id": "2hjnVeUSOyG9"
      }
    },
    {
      "cell_type": "code",
      "execution_count": null,
      "metadata": {
        "id": "gwR6GXc0vnGu"
      },
      "outputs": [],
      "source": [
        "import numpy as np\n",
        "import pandas as pd\n",
        "import matplotlib.pyplot as plt\n",
        "import seaborn as sns\n",
        "from sklearn.datasets import make_blobs\n",
        "from sklearn.model_selection import train_test_split\n",
        "import random\n",
        "from sklearn.metrics import confusion_matrix\n",
        "from sklearn.metrics import precision_score, recall_score, f1_score, accuracy_score"
      ]
    },
    {
      "cell_type": "markdown",
      "source": [
        "Generate Two Linearly Separable Data Sets"
      ],
      "metadata": {
        "id": "wTZV27LuO-4z"
      }
    },
    {
      "cell_type": "code",
      "source": [
        "centers = [(0, 0), (4, 4)]\n",
        "cluster_std = [1, 1]\n",
        "\n",
        "X, y = make_blobs(n_samples=500, cluster_std= cluster_std, centers = centers, n_features=2, random_state=6)"
      ],
      "metadata": {
        "id": "0uk_HhGOO3kc"
      },
      "execution_count": null,
      "outputs": []
    },
    {
      "cell_type": "markdown",
      "source": [
        "Split Train and Test Data and Plot the Train Data"
      ],
      "metadata": {
        "id": "vILUgK7ePWvu"
      }
    },
    {
      "cell_type": "code",
      "source": [
        "X_train, X_test, y_train, y_test = train_test_split(X, y, test_size=0.33, random_state=42)\n",
        "\n",
        "fig = plt.figure(figsize=(6,6), dpi = 100)\n",
        "plt.scatter(X_train[y_train == 0, 0], X_train[y_train == 0, 1], color=\"c\", s=10, label=\"Class 0\")\n",
        "plt.scatter(X_train[y_train == 1, 0], X_train[y_train == 1, 1], color=\"m\", s=10, label=\"Class 1\")\n",
        "plt.legend()\n",
        "plt.xlabel(\"Feature 1\")\n",
        "plt.ylabel(\"Feature 2\")\n",
        "plt.title('Randomly Generated Data Points')\n",
        "plt.show()"
      ],
      "metadata": {
        "colab": {
          "base_uri": "https://localhost:8080/",
          "height": 555
        },
        "id": "vGubmoaZPVgA",
        "outputId": "dbbe0564-d302-42e7-aeb4-76ec033e3969"
      },
      "execution_count": null,
      "outputs": [
        {
          "output_type": "display_data",
          "data": {
            "text/plain": [
              "<Figure size 600x600 with 1 Axes>"
            ],
            "image/png": "[encoded data removed]"
          },
          "metadata": {
            "needs_background": "light"
          }
        }
      ]
    },
    {
      "cell_type": "code",
      "source": [
        "print (np.shape(X_train))\n",
        "print (np.shape(y_train))\n",
        "print (np.shape(X_test))\n",
        "print (np.shape(y_test))"
      ],
      "metadata": {
        "colab": {
          "base_uri": "https://localhost:8080/"
        },
        "id": "Ad53xtMLPj2k",
        "outputId": "c542f92e-79bc-4fd3-e9d7-bea9ab71e3d3"
      },
      "execution_count": null,
      "outputs": [
        {
          "output_type": "stream",
          "name": "stdout",
          "text": [
            "(335, 2)\n",
            "(335,)\n",
            "(165, 2)\n",
            "(165,)\n"
          ]
        }
      ]
    },
    {
      "cell_type": "markdown",
      "source": [
        "Creating Generalized Perceptron Model"
      ],
      "metadata": {
        "id": "UHS_OijGTf28"
      }
    },
    {
      "cell_type": "code",
      "source": [
        "w_store = []\n",
        "\n",
        "def unit_step_func(z):\n",
        "        return 1.0 if (z > 0) else 0.0\n",
        "\n",
        "def perceptron(X, y, learning_rate, epochs):\n",
        "    \n",
        "    # m = number of training points\n",
        "    # n = number of features \n",
        "    m, n = X.shape\n",
        "    \n",
        "    # Initializing parameters(w) to zeros.\n",
        "    w = np.zeros((n+1, 1))\n",
        "    w_batch = np.zeros((m, n+1, 1))\n",
        "    \n",
        "    for i in range(n+1):\n",
        "      w[i][0] = random.random()\n",
        "    \n",
        "    # Empty list to store number of missclassified points in each iteration\n",
        "    miss_list = []\n",
        "    \n",
        "    # Training\n",
        "    for epoch in range(epochs):\n",
        "        miss = 0\n",
        "\n",
        "        for idx, xi in enumerate(X):\n",
        "            \n",
        "            # Insering 1 for bias.\n",
        "            xi = np.insert(xi, 0, 1).reshape(-1,1)\n",
        "            \n",
        "            # To Calculate prediction.\n",
        "            y_hat = unit_step_func(np.dot(xi.T, w))\n",
        "            \n",
        "            # Update if the point is misclassified.\n",
        "            if (np.squeeze(y_hat) - y[idx]) != 0:\n",
        "                w_batch[idx] += learning_rate*((y[idx] - y_hat)*xi)\n",
        "                miss += 1\n",
        "              \n",
        "        sum = 0\n",
        "        for i in range(m):\n",
        "          sum += w_batch[i]\n",
        "        w = sum/m\n",
        "        \n",
        "        # Appending number of misclassified examples\n",
        "        # at every iteration.\n",
        "        miss_list.append(miss)\n",
        "        w_store.append(w)\n",
        "        \n",
        "    return w, miss_list"
      ],
      "metadata": {
        "id": "5VpQAV7IS9rB"
      },
      "execution_count": null,
      "outputs": []
    },
    {
      "cell_type": "markdown",
      "source": [
        "Function to Plot Decision Boundary"
      ],
      "metadata": {
        "id": "Nnn7aiHUT5C1"
      }
    },
    {
      "cell_type": "code",
      "source": [
        "def plot_decision_boundary(X, w):\n",
        "  \n",
        "    # Equating mx+c = w0.X0 + w1.X1 + w2.X2\n",
        "    x1 = [min(X_train[:,0]), max(X_train[:,0])]\n",
        "    m = -w[1]/w[2]\n",
        "    c = -w[0]/w[2]\n",
        "    x2 = m*x1 + c\n",
        "    \n",
        "    # Plotting\n",
        "    fig = plt.figure(figsize=(6,6), dpi = 100)\n",
        "    plt.scatter(X_train[y_train == 0, 0], X_train[y_train == 0, 1], color=\"c\", s=10, label=\"Class 0\")\n",
        "    plt.scatter(X_train[y_train == 1, 0], X_train[y_train == 1, 1], color=\"m\", s=10, label=\"Class 1\")\n",
        "    plt.legend()\n",
        "    plt.xlabel(\"Feature 1\")\n",
        "    plt.ylabel(\"Feature 2\")\n",
        "    plt.title('Plot Decision Line')\n",
        "    plt.plot(x1, x2, 'b-')"
      ],
      "metadata": {
        "id": "-lIIu9BMT1Rs"
      },
      "execution_count": null,
      "outputs": []
    },
    {
      "cell_type": "code",
      "source": [
        "w, miss_l = perceptron(X_train, y_train, 0.1, 50)\n",
        "plot_decision_boundary(X_train, w)"
      ],
      "metadata": {
        "colab": {
          "base_uri": "https://localhost:8080/",
          "height": 555
        },
        "id": "eAB3n3ZvTkX3",
        "outputId": "e0caff54-0493-467a-ef44-2f5ec126fb5b"
      },
      "execution_count": null,
      "outputs": [
        {
          "output_type": "display_data",
          "data": {
            "text/plain": [
              "<Figure size 600x600 with 1 Axes>"
            ],
            "image/png": "[encoded data removed]"
          },
          "metadata": {
            "needs_background": "light"
          }
        }
      ]
    },
    {
      "cell_type": "markdown",
      "source": [
        "Plotting Iterations vs. Number of missclassified points in Each Iteration"
      ],
      "metadata": {
        "id": "Ad5CuiNXUjDq"
      }
    },
    {
      "cell_type": "code",
      "source": [
        "fig = plt.figure(figsize=(20,5), dpi = 100)\n",
        "plt.plot(miss_l)\n",
        "plt.title('Error vs. Iteration Curve')\n",
        "plt.xlabel('Iteration')\n",
        "plt.ylabel('Error( number of misclassified points)')"
      ],
      "metadata": {
        "colab": {
          "base_uri": "https://localhost:8080/",
          "height": 437
        },
        "id": "XKsxiRDOUOLh",
        "outputId": "72b3510d-ccae-42f7-ce03-29b8278272f8"
      },
      "execution_count": null,
      "outputs": [
        {
          "output_type": "execute_result",
          "data": {
            "text/plain": [
              "Text(0, 0.5, 'Error( number of misclassified points)')"
            ]
          },
          "metadata": {},
          "execution_count": 565
        },
        {
          "output_type": "display_data",
          "data": {
            "text/plain": [
              "<Figure size 2000x500 with 1 Axes>"
            ],
            "image/png": "[encoded data removed]"
          },
          "metadata": {
            "needs_background": "light"
          }
        }
      ]
    },
    {
      "cell_type": "markdown",
      "source": [
        "Creating Video"
      ],
      "metadata": {
        "id": "vIT-GBT_U-bK"
      }
    },
    {
      "cell_type": "code",
      "source": [
        "from matplotlib import pyplot as plt\n",
        "import numpy as np\n",
        "from matplotlib.animation import FuncAnimation \n",
        "from IPython import display\n",
        "   \n",
        "# initializing a figure in \n",
        "# which the graph will be plotted\n",
        "fig = plt.figure() \n",
        " \n",
        "# marking the x-axis and y-axis\n",
        "axis = plt.axes(xlim =(min(X[:,0]) - 2, max(X[:,0]) + 2), \n",
        "                ylim =(min(X[:,1]) - 2, max(X[:,1]) + 2))\n",
        "  \n",
        "# initializing a line variable\n",
        "line, = axis.plot([], [], lw = 2) \n",
        "   \n",
        "# data which the line will \n",
        "# contain (x, y)\n",
        "def init(): \n",
        "    line.set_data([], [])\n",
        "    return line,\n",
        "\n",
        "def animate(i):  \n",
        "    plt.plot(X_train[:, 0][y_train == 0], X_train[:, 1][y_train == 0], 'cp', markersize = 1)\n",
        "    plt.plot(X_train[:, 0][y_train == 1], X_train[:, 1][y_train == 1], 'mp', markersize = 1)\n",
        "    x1 = [min(X[:,0]), max(X[:,0])]\n",
        "    m = -w_store[i][1]/w_store[i][2]\n",
        "    c = -w_store[i][0]/w_store[i][2]\n",
        "    x2 = m*x1 + c\n",
        "    \n",
        "    line.set_data(x1, x2)\n",
        "    return line,\n",
        "\n",
        "anim = FuncAnimation(fig, animate, frames = 50, repeat = True, blit = True)  # frames = epochs\n",
        "\n",
        "video = anim.to_html5_video()\n",
        "html = display.HTML(video)\n",
        "display.display(html)\n",
        "plt.close()"
      ],
      "metadata": {
        "colab": {
          "base_uri": "https://localhost:8080/",
          "height": 310
        },
        "id": "I0YPCccZUhsb",
        "outputId": "1910ef23-8fe4-4212-82c7-ed0f27a9f73b"
      },
      "execution_count": null,
      "outputs": [
        {
          "output_type": "display_data",
          "data": {
            "text/plain": [
              "<IPython.core.display.HTML object>"
            ],
            "text/html": [
              "<video width=\"432\" height=\"288\" controls autoplay loop>\n",
              "  <source type=\"video/mp4\" src=\"data:video/mp4;base64,AAAAHGZ0eXBNNFYgAAACAGlzb21pc28yYXZjMQAAAAhmcmVlAACyB21kYXQAAAKtBgX//6ncRem9\n",
              "5tlIt5Ys2CDZI+7veDI2NCAtIGNvcmUgMTUyIHIyODU0IGU5YTU5MDMgLSBILjI2NC9NUEVHLTQg\n",
              "QVZDIGNvZGVjIC0gQ29weWxlZnQgMjAwMy0yMDE3IC0gaHR0cDovL3d3dy52aWRlb2xhbi5vcmcv\n",
              "eDI2NC5odG1sIC0gb3B0aW9uczogY2FiYWM9MSByZWY9MyBkZWJsb2NrPTE6MDowIGFuYWx5c2U9\n",
              "MHgzOjB4MTEzIG1lPWhleCBzdWJtZT03IHBzeT0xIHBzeV9yZD0xLjAwOjAuMDAgbWl4ZWRfcmVm\n",
              "PTEgbWVfcmFuZ2U9MTYgY2hyb21hX21lPTEgdHJlbGxpcz0xIDh4OGRjdD0xIGNxbT0wIGRlYWR6\n",
              "b25lPTIxLDExIGZhc3RfcHNraXA9MSBjaHJvbWFfcXBfb2Zmc2V0PS0yIHRocmVhZHM9MyBsb29r\n",
              "YWhlYWRfdGhyZWFkcz0xIHNsaWNlZF90aHJlYWRzPTAgbnI9MCBkZWNpbWF0ZT0xIGludGVybGFj\n",
              "ZWQ9MCBibHVyYXlfY29tcGF0PTAgY29uc3RyYWluZWRfaW50cmE9MCBiZnJhbWVzPTMgYl9weXJh\n",
              "bWlkPTIgYl9hZGFwdD0xIGJfYmlhcz0wIGRpcmVjdD0xIHdlaWdodGI9MSBvcGVuX2dvcD0wIHdl\n",
              "aWdodHA9MiBrZXlpbnQ9MjUwIGtleWludF9taW49NSBzY2VuZWN1dD00MCBpbnRyYV9yZWZyZXNo\n",
              "PTAgcmNfbG9va2FoZWFkPTQwIHJjPWNyZiBtYnRyZWU9MSBjcmY9MjMuMCBxY29tcD0wLjYwIHFw\n",
              "bWluPTAgcXBtYXg9NjkgcXBzdGVwPTQgaXBfcmF0aW89MS40MCBhcT0xOjEuMDAAgAAAJstliIQA\n",
              "E//+97GPgU3IAA2XOop6H+EVsfSQUXqx2aBk6gAAAwAAiYGOFkC1uVpxUAAA47z+a0nycPEA0c5O\n",
              "71LL/Wknpw6NuxirSvQ6Xk+YriAaAOUmxjjoi439v+3l5N5g76JF4c32FxlmKfwV32e7YWkOzpFw\n",
              "OaBPDT7KKQFhQR/Aquo0XO9i0VF52+h6x41V6viHMEUNnFloJmb76GIbk/4anzOPNzg4lDxEIjMp\n",
              "OpcoDcrw3mGiTBBB7h7PXa2m3gUPWI8lmuxJMfG0MZg6j3fjvgyvlJ3hmEB398oQ6F+8oAQ4vKqp\n",
              "4WDwlAsA6+eFMM2xBaEN3tclGkQlfM2/1xpD//oP0hS9GVmjJXrWn0UozgEYGqIVeUOw12uLej/R\n",
              "d3nGMf3qAK8bLiUOn1CRoLGN4tB4mvkmKM8aApdOpz2uFvtno1pOQNhcbMgw8RFV7/fuHVmyLPr3\n",
              "cuSehWei1Ufb9DRKC4ACtYx7Dzih/bLwAO33wThd8MCDLJ79BogAaLNkaLyCRKbGEEFl2lEZhbhs\n",
              "+nz6BP2al4AN1MYgH3tMFDI0UQ1sRkh21U0LjcO2rf0m6tNWYYlQYLhN54VwL1XNf5oL/y7NTWUe\n",
              "inew7ilPRHZd/4EKdJeL1hlwh7h7NjnectU1MU0maBvNiLZe7T2Iq09kzrFZqgx6Q81ioVKpQIZA\n",
              "fl0k1Dt9Hq3ofchxvu5J8p7xm9Keh+RtgubtCvlJ8aL6bJ9lP+T8Hlg72Lv2Ox7vJ8V8afOqc5Kb\n",
              "mqDcnRicL4UMYg+HHL6rYoR0cfXaBGlwHtmjNfjcArTF/p91uN7sdlRYMdEzhnTD63ny/2ZNj9Nr\n",
              "0yIIpbqGpBht2+LgGf+yes0ocqOCL6kHqHcyXnbgkA3mT+kBMau9aNRh1KFfGl4V0h03cX9bHTzU\n",
              "BXVKz08bL/ak8GZQlnQ4IzKVmbtiuP5aSG1xHrLczRHM4SXRwNMy6omUOtoVFwgHcYsppR/DQ1u6\n",
              "1IZKhOXK1MftmDf1zK3Nj4BqTTjLa+YwMdce2OVv05zGusiwMPXi0YhHxoXObhMEi/kf5osSL8HI\n",
              "EaKpskOebcNehE7QucOdKNCqlaiES3NB24+wrLgXYm5v0CU5DoPc5iem3MootxZYLwwMSevYvVJb\n",
              "4P011EMNq1hOf4EI3mof00vj6d6zYEKovWD8lcQ9v4pzpCKkWb826l2l0DlNjDYBVqxAUoSwfxfA\n",
              "RZGVI7qWDOsy7slCcvlvFeNteJ3XJMCkkig+Yh87jc+b2YJqkonOg9TCCeFMkmOmu2CA+vQ1g6Fq\n",
              "wcJOkBBI2nb3sy7yBiQU/uxIZtuhXcC+s31lb0l8hqEyDrf3gJXqYZFnU7UWYyEPvnwaDQq/gBjJ\n",
              "bB9Bsu/fqqH/3JsWSf5dK9x+zFxo7CMTOS9W+vfmEzWoeh/bZcFhQwMLwZ8Z5CnVgUAscXa5Jwho\n",
              "pNuUUnABfTlFEyqJjWyU9egfieTd6lehgpSjQ1bwJnamUV+LXEc4fRuCKsY07TIZwLOHDbAqgTp8\n",
              "q6Yfe7mF9XIoTSSp5E4DGrvjLTf9ykCPloHu6ZYG+it+5qGTsc36n0ftHWCUSH+lddmbVvDLkgTp\n",
              "d/8Z3J4o88llKNqh9fz4KO2PMpNWEGw1DG9MnlMWQBygQBgIIDQ+qJgjvEeViDMBJnngqdIWuiGr\n",
              "06j5LMDjSsMTr8IrKdzXK+Zp981mMIk6N/IV9TUoXhQKNKbLjWfYAE60UIgv/cRp/RwGkE/laGEZ\n",
              "5niTvLh7X3aq2Hz/6Iw0cfYiBpJcDzgX0UyxRKzw+NUblqXVriw0X+koZMpd120X9agvHwdH2BBx\n",
              "jPTNGwZqtvziFSA5/PMuzqmzxSOkTcZDurdoRPzf2tv+36b510pt2p8sxtecG97exn4YeSARw3Z1\n",
              "LzqLVbC6yCeuYTpMMIqWO+eUplHb7bo3Za5z6F2LBq+Y9XueU6zTCspt8To+Yn3uN5pbGKw2FREQ\n",
              "w414Fjn+i/4WPtF1+jb6L7XiB+FwgVBAd6BaNyn345B6z/NItPRxborNlZ+mxqyKAEyHzLSV+QXn\n",
              "DWIptznOHsOnAkyYQXXdvWX4AK/PjkwfFAx6rc5sObbXmHXmINLCUSsHZo5J1KU9RYJRXrJOiF5y\n",
              "99TZ5BbaIXcwx9FhrWBGHzz+NgTEhEQP+uj3A83vkvR4rmy/lgf7//rqtQ9dKm7x3/1FbXnXfLGx\n",
              "H+zjOHJBSVmD+91zfNQrrqD8JpM31PLnfF+jPUXVuUzx4oP3PRABi5tQBTrMqiO4AXRBdypZJYYW\n",
              "CjTBl7TWhOT1QgRongrJqJnB7tJlrhEQSiMjZ2MqeHcFAB5T1qxtWmIScx61EE9zvVMmTw80s8F8\n",
              "6MHrA577YZl5Sk6U8HinF6IGzpIVOBtdX3oKPVDQz0SJW4KRU47Hlsx75CEmr0LwxkVyNR19/Xfp\n",
              "k2uxe1jLiOl4kedZmZ6XTRtcrwb7uwnqcYWM5Kuim9BFjuHskNV70nlM+BnRyQjuwKg8MElchZ+g\n",
              "OP7IuF09QrYrZ2KKUwNph1NK4k4JBEj3vyF3YrMk3e6/3HQ/vkGM3UDAAd+4bCQyDcwuKK2nee42\n",
              "N0VzcEH6ch5dsXMuI7z3UQ9bxorWVIBFGr0ZExHNnUvy7BRaSaMaKJGPGjSI8oD5k5+6vB5R6jhe\n",
              "1mTdvBKRiqASWf2SN37PKi38nybUT70OKEd7z+8wqI34FawVlB4j5N+HbmQwkzsVRHeMF9O6JgBh\n",
              "BqBFriVWqai7Lh1c8ziV+Mp5flrqEgoxddGqNb4W+NLs+n34XKMpOZtG5wmSnSu2vTe8+pVN/qnO\n",
              "cy1i4WpWkHk9/nC24vJjWkv9hlMF57skF+bGGyJbP+qiyhGExve02qi/Fo32zMhVpBjsRmqD4IET\n",
              "ufb9IMS4YbXj8uy9h0V8HLAgcNLyNuw10ytYkB2cOnAul56xfJeeR3Dq2+OIkJPXh1aEaA5onGGm\n",
              "Lt0978ycvh/RL/CyBFeCF4Hm/uNdy/pTKf5bRsCz/S0u8Jkot0Df3zi7GPOx3iuKX+azcZAbpSa1\n",
              "pEmaKClQjmuiyrppzYYC+5F/j5L/IREd4pH924CKYywshqA1a3mzq8DPEeeQIy+PwsONvPPXEkO8\n",
              "FIFl5LJMioJnAaIGJotWyT1m1LVZ0YfCK1gCyp4O7ig8xGGrN6q8cEBQfayZMlZ9tlNCxFeqrO7u\n",
              "YdetdBL/ll6WSmm/iax5w+HQ5SdSFFQJDDoZFE178yHfq/hY1uZZiKxcrcuqyETHNNbnVN/u/Xol\n",
              "ulckLr8bRzDNCrKCd1MGQP/Bz9LjaldawQfMwFUj7Wp6mXViciESRXwJDBUzBhco3ErP8YXqCZoh\n",
              "t+rle5E4XjSxW4kIwvAXdCSa/xFrQcqB5RKoImmIqkG3vPeqVWU/l4VTGeO9Wh0mZ1OBBzirRYEJ\n",
              "vaDd4ATGpVqPXLejJFztSRHsPOpp18iSd07bRh3whzZ0Pm/Y/p4kJmegoODRH0gkNhDfiFkY2YJT\n",
              "CK5a4uoMMWxG0FddGF9xIEPz1PGFqsfsOQVyB/CstyVCMD+DFtuYD8QhN9oCpjZ10YWUkmfY1Ja4\n",
              "EF3N8RqK350Ujsj7fpsWl9Bi2zXAJzbZEMn8Vtsf0rSd30x5k/PiNsmdcC+3IBNgTsBs7bml/ml7\n",
              "RAJHbg5s9YZI100Sb/D/q7s+txDnim0zgvSAUFV+iN6562DjdDArgdTg874RVHJ/95FPDUTbU0K4\n",
              "5VCj7dwbxiINO/wmp2BQs2L5l7a6ai7Hf2nTrmXtNVlXYCKF+bxlus+nEemrDyK9vPicGeU+rzzj\n",
              "/qAi5wFglPh9yXB/fpAhQLg0inMtLYqvz0yXu8R2n+h5xc7/cOj0bkMipegGyvnqOAEMcWco7Y3N\n",
              "q+qK81ppbl89Gf88v4DsRJKxtyrdTmwGenhxa1EYn/A6P8rtIJ7hMJYTFzuCQMqyS6PGkoTRSD7L\n",
              "FQc93azZWS92f1IKf4PYu2KSlMRUrO9Tim0X4rscTDMUn8v7emUqD39VMtbUuktmKRSi8t8e02tq\n",
              "IkYUNqtebevIcEALur982W4Wlyt/BuVCm13eSzHSiDMupo0Un1NWTy9gd7pbS53OZbHGN6wGKki4\n",
              "hqAOLqLKROJBXbjgbqamzU0VEB9F2jq++gWd+8YPci6P8h1GCjUOSPuqtxV/vv+fb5Ttt/MVenth\n",
              "kKz9H85fKORqP8xMyBcGLUWyBiaUkzlq1rI9P9stVXSC1ZwBlisufXvfetFGU94sqhTDbgCKylsD\n",
              "/VXqQkGv9NAB0EbC9evA/yYD/2eWe2nkIBfsG8uhK+RwBxf2A1I1QA8Re45vy4VitCBEv3FNYY0V\n",
              "7PzBEwB1PXiOOpZjY6N1m6KiJmMlSJseRqYfe0bcXi+FKRdU1QSzGvs76EtenjFWCO7r1qNfux0Q\n",
              "EFo9SNIRmP1qV25p1bRTxxeyWsKjZy4a79VIyoTES9ruempzz26RXViv2kvJ4yCZDHkVdLKYbupI\n",
              "tB8ROFesH6FPfVlJzc3wCqHc/NAOfjYWxHYD8o9IU/SjFOddeSRaYQuSJAj9u0e5aF2ctzfISRqY\n",
              "5gSU5C5VW93XILtf4v0tKtQXdQdvMis2DkxQZQvuCajKob1bmGpenrErv3bIxxMXJTctUR/9ige4\n",
              "uGhdc/yGia6pOSkgGantOjIwQKJyYfzFk6ZECmowsnW8yBMkmwXWd9mdczxWQZ1aXQna2iapwxBE\n",
              "Xuwt0wj7u1eb/DiFLU++cm+8bdzHhb9I6IZgOGDssYUGwv/4SuE7Jpz4qm/z1c5XUWq47Xejs6bH\n",
              "ueV5f03JXt/4Xo57kaJnPLciKsMsIdoCwF1MvttdpVLeyVUhOWzeGtThHWyYakUbBpYKehhXVTMK\n",
              "EMWGd/6C5nvHQc8D1RTKMpNmoFfXHc9FAEDt5xJp7DKOHCRMvff59bFiKw0VUYlCbvJB0QXYyqbX\n",
              "baErtnSuOtiMn9/Qx9rm3p5GRua8lxE0FHdhxFb0PyuZNL1etnrY5zCYpkDqeX8rOQv+AdaCXMNE\n",
              "3z2CTwhRk/VUz6cI/rSXQQsRCSzXoTfw+BTKPCtXavwKqKvUXJFV7kRf+KaMLvQlFx4/ZfJmjTKj\n",
              "Xo+TU41HRbbb6CeKWH/d9gfe1lTKkHdloUCYI8wt8drLayGooKlxI5GgHPbXpL6wdCmZWWs9D81n\n",
              "54FRO0i+L6ia72KjWvCYPBOOcttgDskC8PRCGXrb19g25+64fKvjhHtmiw+vCNimxZUmNSokCgi6\n",
              "whqOpK6eB3Q9kd60bdSuJZ2k/5BDORLgbHBXLGluye7FBvSxiKVSMwElOy+yeOefakxkCYhHBi1P\n",
              "jeQyoFuhu+KO7YbG/C7+1Mo4SNAPfD6jOC9zen0HWBbgyVkyyjXvqwiasmSkgUNK4QHFCsmqelK4\n",
              "GYtM2VCltToZElVnr+eE8qFjdNyU8naJmmdZhIoa9infFhXA6Kp/D02KDUanVd7BTA/EMV7/VJF2\n",
              "HH7cC9ConOfBQAF3y0V5WbO0rY+3yf5+Ofvtan9Phyot+xJA3ENmCCUYCFJ99Eyl4r8mwiky0p0h\n",
              "3c3Za5DupGr3ozJsKVpTqR6rAZHqCvNAOC7uRTJWDJWgD3l+X4TbaIi0mje/uEf5MaR9AkilF/0n\n",
              "6A0M1ngLTMGlyGwUFh+d+6S+x3OlakTHYAKm+d5gn/B7T9y0771rdugSHxVuA8foNC7ccPRgt3+X\n",
              "sM1WTnfPNtjKuE04qsKpiOjKdLTWqoeVL0TwNMo2YT6I/OEFIkbBzDTgr2OzkuUDcM53CfyVlV+f\n",
              "hKGJkPZUhuWUbWofv0nbKnxbaWiScEa9Yie+qCy58r2jPUiDcPiuxAtALQxK/a87ohPxxzvoF4Xp\n",
              "aUsrIE88XnlIwdrsX8/Cxz2QdY02vWvyvS5zdCV8bG+wGP5kq7KrBC3ahvduqXzzJLDTn8BpJNoq\n",
              "zdziLDE0BBl84K1xGEOA1AGMmYiAbtZLnsjzh6e3y9mmBq3XxlzQrn+MuMO2o2iDw5ieGrOHw1ee\n",
              "VEr6Yhg7pe36nx3Kxqzu+IsZtIafflOJysmCzO9QL0UpPZ0eTuXoXZDd+FCAFNXfQYWkbDpmYD1s\n",
              "yJDXvIsGS2zTfuDO+WOL3nJnNb1Vv6goMBkeqJNSymRXn09r3yjtdVTx9EYaOMy4D9FYXFswh4BC\n",
              "WOV1+CVa8+WeeD8dSIEigE6eJjO+2qcarttxcWD+0Gzk217fV8Q6upnzMVtTNCeynrJMoqTbBQhn\n",
              "0o+VMVYq+XtM4el8rd19JqTi04xzeF4eBPYhigS0J2uUVYh+4EJuISZz0IUAx35ogtLcv2PGuV8E\n",
              "VxOrg2JMJS/tkTEKcGu2XnSfDbgOxlKSTOoZCBEbyrFaGRNo/USCTvFVQMkf7X6UOPOGrciLb81b\n",
              "AQn7m0rSkMZ+DPYWnzws6fDrXxV01j+QRjVyMcT4Hu/O0E85OEfRY0abualUvmQmP/z4NVSgYcw1\n",
              "snUozq2Niie4c2iBfDzdZ62enrxFl7FNYNXFQTQiiBKRvF63646TSkbSQG4lT7GTCGF7Phnf8fQw\n",
              "Gb/3PUw6MYnKosXf5Y00twBmuR+xhPwhmIw7M0EtNfxISZqo0CtI2oUDqKz6b0NpL59gxFo6ddMr\n",
              "8WYc+GAQxb0JEIw2N6OKl+h169ELLy2c2fOq9IloOe6OtBqGKDtzJSmC7926yZ0a0yikACJ4EQWy\n",
              "gBEXfCCFYPD8DSbAe8SmQ2ObgP06wsaKWzVr1phVcIPQ8sZ50ixPzS1UMbyP3pQD6JwdqWN/dUOn\n",
              "W5AukKIHBZyYt/cMaNh/ZSQ/a4abZe2zslej0rporrd55nxjipjSZRFcGQQI9HZlRG1XrkiHXn04\n",
              "t2Cc2ZGMOCLu+l3Q7exD+pKINqhxsyGVHYH1rkyHrVIsO3YKjoa74WObZ1Lr6dyckwc9vqdcpjjL\n",
              "4tGH4nqr4GDtv5qS0bJqEYspqIP9yo/EjU27yVrPeD8k+t9Li/O5jC+7BnbsNYk9kpJx6zz1b3co\n",
              "RKcy7kK1wB9DCGbmz+M0wdozYUpt6IeG3Ez4bEBdmEaJ7YkalS06+GpZPQVhbqSF07bwnz8Y/1yK\n",
              "daKjKS1nk3lPI8HMHNPZlckgF/HjINk0g2JnpxOLsEHwEnNUl+WI01pllD+8sRlpRrgtJJRtc9pz\n",
              "Xs/VWozG3QBhiIhQj86EXfeKNVCWtRtu6E2Q/vwm6VfLNfJ/eGj0ZamD2p9nqgyJDo+bwkiXCMxQ\n",
              "B/NT+kjd40AhEMybi9vrVpA+S5WyFkR3Edg2hw7whyVvOokQhFBeH7f9VRaz/Ps5Z6O5nhGX2MmU\n",
              "ohuPYlsNTfP7SQDkSAlVTBSLB+xslxZMI5BodHsF5WeeYYUF/l0cMNUi63C1Xj3xyRG9OV3rMTPL\n",
              "rRBEhUAFpzP2Xlsa54x08KQSgGXdOrQl+RXW4qB9t1phEXVOvNK5UMO4kaLZWAuPhv6Q3byRaoUy\n",
              "bngF6IOwUM8pZg3oUr5ydec8x/0AryIpdDWuMxZU16RbB7S5PPzqAe/+W+mmxryVePfoouO4MDD9\n",
              "TZMD5Nhmw56NhSXNcytodRp6qhhDS0oJ0+jB7KX5eFjDRw7FuFEqUn1MlbrmxAVCCvtiktQbJtHM\n",
              "6VPWBMlZUpnIkKJbrqPBs94Sluc49g6QBiuzEjsA8wexGvqA8Y+Diqo0HegQU1D/2dmNGkvXxVKP\n",
              "pElD700SpbslgeW8MwLGrzaM3JnGZVm7vt7LI7OQ05fF0MnHDURbv/x7hLcKIv6u6eI/RqNzUeXR\n",
              "5CIcJ6pDL9++BO6HTg37H0/Lrz7PhDDdbb4NnothavGZ8YvMJuyj9n05+ayJxocZxxzobraIZR+j\n",
              "w7OZnaZbO2VZAcXidr/Td70dxXJF94AGvRuRbf1T63MiXOZHkjfesWQYXuGs5FSEWI+c3QITXneM\n",
              "JpXW/jAaK4ifthvcnT9HStKyWIVFjWKgEbk0K74ZAljgGlyjnmQWdVKLremK/J4Om05ux9EiJpnz\n",
              "Hcy6NLeIY08jY9HYw2LQesOJ2SPdqnmADEytHAmi+IFikUSBuv3vgaaoqyk+qZZvJR3UxAx1tkBU\n",
              "0BihnI3Yn2NTJyyiwcJu52H33YbEpRgqBj+Llfone8KwKtl7PttHC40rmGSuy/YSLvDU1b6Z0vYy\n",
              "PwdG0PNtjyciofnWcFRygesJKip/+xd2gk4TGvB6x9lMF8BKMdbYNvTwR8xxaP9ZPfwg4rpaS4eA\n",
              "e+/YmLuazcGyUPhTNigGtd02bkGsZRVCLH88Rv9dVwQmVXXm2/NgvCfKt3DjV7pZ3L72vjlGw3An\n",
              "eYv2xxgzON+pBXA3UPSsvKYI97m2zKjIavbVQtALWdyQuu++NSeBJ4SU4ogbWv2lIiKCIOLZLwJm\n",
              "yoASkOhxfQiaNv+k+ip72TF3Wi+k6xPzW0FwXiCPPU2h/mf31y06yjxpG8le9n74Jvws2Ceg1ZJC\n",
              "KMvbEdBNpBiwuLIUGAYL26iIf3EbYb+Foe9KrgHsoIiXFBZ6ceAMy+BCVn2W9U1jVQ9PuZPN3eTn\n",
              "tE7ZLaSvI81OMBEdIl7R55bQP8HTY27yk8WUTpeTil/ohDv54YtUiWdA6AQi60+he8zEaL7KLmTq\n",
              "cT5kIQkYi5UhgkxNpPNjks94Sxzn00ixQQNFGGntYOaUHlRhM0BuPR2cYFBqfla1d7lF+apEWz+C\n",
              "XyGPRpa/FA40K7JRr3iWiPwPvYamutqsK/ylpvQW5Nw9FMV1/bgv713tswC7zrBIIAEv5yooc9Bl\n",
              "p2uBhR/ss4A2v8JglxzbzrUo2tPQ5/aqM3dR5o+YUN9ifnsQ2gWl5Fb9ZzA7yx/pC/DTWXUcm0Nk\n",
              "m5uqP78HSe5O9363oFDpABDhPw5MdYq/1CF49VJQ0NTprqkmE4RbvFQDsOjw5AAEqZpdcLS9aFLu\n",
              "7NcHI+dWS1x75AjoQyL5y4jLHXgreiSVJuACvwCVJefuCGJlJpA0yOYktlr6Q0w19b5Vdvx7PtuO\n",
              "jqxRDOqwlOenwiPF7O4RAqLDGYKPvMONQQbaFVtDRz9LlMugcosq26w39YvwL4craSmAU8wEqyN6\n",
              "JqXfpU1jF7Lv9EWAo1mEdnbk2hzuBbAGPO+5Q4G2Ea43rQNhvm4CfY93Vl6VULza8JwTXybsLup2\n",
              "cZIeYW3EzRFfXYxUXJZUIvMYJZWl39Afb75k7XRD7S+1MrjbAQJ8cn+fQpsy6yKRaq75O4cXeI+6\n",
              "2EM02zXtoFuTbTFkkFqiBmOBOzm4JXfzMq8u2AAe6WjjHniAfyCSy2YzkHFMKZcwnbTah4HuvY4H\n",
              "zfo9lN6gfxpzUaOWtaEO5IakJl6WgKINb/9ZZeDacQCwh7Bq71UVkktx534h8FpWDptDXV7oXfQK\n",
              "TO/xJPlTsfqszJNnP3FkOMcrgqXr+x7gNnZKoDL6NoEqsSfs6fpyxBsJQ5ufXXaehbNseKI9uBoR\n",
              "21OcApKLqkfHlK53s/t3jiNkMkKcWsYVyK8fsZUyLMtCzL/1Qodc+mBGnVEYKaWTVN8Xuu79uvo+\n",
              "8it/8AR1tp/xYVr2YEPclnTUK4Ja8kDaHjy1M8irUzMpUoe0bK3jabZh9m3uEXw3EH5pOtMm7Fvq\n",
              "4RG3OZEc0lD787K72SCoqYEuGlM53oxod7sm3bQ49WO+XUdEdsBgZ8ERQZb3hykJcvd+JF2aIOep\n",
              "F6DKmg0oroXlTDxY2aGx/KU7eOzoOoImt4gdxyHOVcNxdSgs2eqzminPpj4sQ65R02KoZKidVfFT\n",
              "PM9UJMVUr8p9nMod2cEm8WghLWrNZ5BTEoOB/3FTznPvgiuJ9u4PU2GxXAtmL909xLxO/wy7nNLv\n",
              "FSbtfjjG+J/h+YxUpKPBh2tn2hO+aLU3kuwA+2opI0DrwkjnyhdU0wFatpZArN/6f0VqRfkFXziN\n",
              "eOqALydo6VDqrtKbEV6hOnMzT1V4x2Br6Si+hstgt+ejeXl8cyhTy+s28f/cPL3fM3fGx6LxbRVP\n",
              "nw69Ni4vb3/AArrbXJMH29RccnpylnSJZPrHynZwzFuK6KgsVAaG+FbEl3QQ4in76Ot7lK1USJd7\n",
              "+83YovUFEbYz953lzlvGoi03GWZSWEJJoKaQBJ3mCUhaCwZZ3aDgRkWTL8X/W67r+3xZDsJlZOUr\n",
              "cFbbRkhfOBezZmTgW330abIdEfee8TXRnE1VV3sHK6MRq0CMMvcfPHwDhZSSQgmPH+Vn+Rj4c4K7\n",
              "e/30U8VMqkLePvlRinVn1fcWt2cn2Fw/PvNASSDFZ2n0nTxodZJWr7RGQUb7l16qRE0AMsxPxc6T\n",
              "J2o5ZfwaMGb1uRqFtKi0LhIiPnZHqPJUkjpWDYVBX2LWnqn1oNRNU2Xxt9d4Cu/Ut7Yk8PQ18buq\n",
              "/TB/xhc2BT9ZAJ6u9mcPVE24+7YLmY6KOZiBGU4gTigl1bm6vyKu1bOGQ32V/aVOugCrqxz+ybtr\n",
              "NFkynCKJhOvVWZoCzRoaLulZNyteJww2YbJGArNVeBJTXCBxzWNoNWpY3ynneIA1a++6lBtTJNIF\n",
              "Js18ond+U+16fKuaEkJ7YG0kgVzV9Mh/K66lNVv91tOAOxEhMi4YSiO1oHL7IOcgGPAo5fJdtkER\n",
              "mYrYAyJTHe9p8nML+Pl+sZ5lasyYEhnzvaIUjoTohh31BE/KZ76BBNVUQLqFGn5GOx6PaFTWPMWK\n",
              "LuyS1VsO/K8pC8Q441Wkho38drAkRG1GyAewE99OY+5842OcteIw6ncD1d6jeHZLDhYgbX3N1tDU\n",
              "NQ5smwZabG+P/v6eutb5ifGZda6fb8Jp2Wh5q30NAlTPgIVhVC6dtCEJMLxPsWhCJB2m+MaLxGix\n",
              "V4HLTWYJel6imlxmKxJ6IBa5FLfyVMeZ/9mhm8xlIfS5Fv6tBk4/V88BNXDZKFtbm0IdqHnuaGAq\n",
              "ljYFK3N+rKk5zZRWPsVNaDDgGTSaZkZuLT4Egn4SBIBDYlkMLRHXz4zNxiU0MR0bFIuN1BShq3A5\n",
              "hK7S/2iInEoixoj4PAIlS2MVfD/4ijfoKn/qnTCQboABXmAA5qcptXZt2vAXW426x/UuFm3rulgQ\n",
              "zOrK2YsyI+VQlkoPT3lB77jAWf5zDxujKOeIuA9mR7Nf9he+wcfPpoxoKFy7VDENBue/lEbEf//a\n",
              "bLo3g2By0lYpYCNWKBA1UK5iBbLzJu4tx61OT0Hp81K8BQN5vM42VaQLiVp4SR3Q0Yc8EXgXb6yl\n",
              "I3HiSsqzpO50aAPEy9XK1Lm5r3qSWOihEx1wb7sbSS2TT2k2cLus/TqzE0eYGru5REDLaZt1N2ag\n",
              "v5hfOtjXj8Q/OiAEMvkysYyjnTwo4Y+DLz5jzMWS9RRJb7amU1CdZqxiHMnP5Wu19XWX5q7uTdA3\n",
              "AOVGfhpBHKeK/SVTEmVTs0GVG0a0Ue7LKpYyp1Z+xZngoy8app/FnGgT8hOp3208G3HoB2WUKSLj\n",
              "34laJ8WlXkDhk/pILuvffJ4/Ke5ef4M1C+CJYh3Balb7zJCuZ0GREeHoZQJ7e7VcsPOAoeEsMy2E\n",
              "P7i5oN2VAnzb7YqMtwyUwKdnhY+166QpF/IWJ3BXqutLrBulr2OiYw8iT9bQP3/+F9l1RwegTTpY\n",
              "huUFRSat38sDtDPZf3TLlMpXTJtWaO89sLiMipffHu0mMWUTeStyLSqamy/8CuFTcwxkiPXpGu+c\n",
              "e0J1BpcoEtRWvTMwpyxbhgMb6fkZcGVOHF3dozRpug8nNqDuoVjna+rtEwy6mEJZOo5XEg0rkTAn\n",
              "MXEYaIXXwy9lr2NfeH83T3PSfbuwZ2XCaDBv2BQDA4vJorOp9+2cZ0lu/7ZSgx9xMvykoqe+9Dkw\n",
              "SrECl47Lpx5k1fY1e+BNDUPQdKIWAvCJuH4h4ev6gDL1vjzD1p3loB4WIfa6zEPrFi3a4PKVUm8m\n",
              "mHXYDg/LH5SLD5p7eX73CDA7BmTyzii5LgwbA8Wx50xtjqNlnGblmGHlvasGRdxIQsR42GB+aOYw\n",
              "XHeOVqo/WIvr8KsE2+fJUirYFqjhfdVpCjjABF29176JyJNrFYqD7Cy40d/olUmxZfUJp9/nYqgv\n",
              "RmUrn+dUFfLP8XfHrKMykI6rGFexDYlzFjeK5ntuJtDDgnXhqHStusYu7gjoXTf6hU5PpYLJGaBG\n",
              "xWqDmksHr3HfPmoB/EBhgkUr+JTxap2tqXaKjnweawJR3FF66KaVV0RB9j5es3O/PZ4UHbalO5JO\n",
              "yvSMzFxO1CCEXtVJLLE2v8LfI1dkby08uft8EUBWeFav9L3lY6ZI4sUSUPtaEENwHDTvI173Hq5k\n",
              "WkqzfV+sQuiBGkpF/Xz8httmpQ5vrke8iXfEocIRvLLGVRQ4FvyFVmjtU9qmdIpPrBr6vSrqJmlS\n",
              "Hh3ne0stOIJ3hWyLP/0EH0/9Xtghd6MUPl4hAt8b6mv8fCMsdR5ugew61Dt7jgwPvUqLcHHnAEGZ\n",
              "i4QJPt8cozuW4JlChDFEz5dgJ/2MOFycJHTIxTI7ANIxgRdQYFAlHnncE1r3jqdqiuob2VMMolwP\n",
              "6ejor2jsKQntOJVy8fKj9mQKNyPO05KaLSe9eXM79vjYXwuB2xgut6l6sbHP/9O1Edl/KqSfFUIb\n",
              "KoQGgCn2f8K2FugmOhiKcUGbwX7s0933EMmPVWMlnkT4LcWNMTQZYf/1SIaKa4PqGxqt+V6dNBhI\n",
              "2bR4BxUT4lqV43O6k3RwPGHYQO1+kyULVHNRUGH3zPruNbutQkDxMbSuVsR51xAPNMej5mWd+v3C\n",
              "FGiaORZCrhU1s5OPO27oiRISB0FTiiburM3slmyV4i/IwohRQtByyxgk6qXiJUb0rNa/33Xqg41W\n",
              "JOmOQ04/1nJkayV7hh+o5pXFShlM4+3HxDzOH7cH1AMukYmPmJR4x9zB/Kb4NVKAOuhpvfoj1IPK\n",
              "VnHiVxgbyneHtyk0Vw4ZPES4hw8ZhD+3VGr/tI91DnkfJsswbsX2TSYWErGMgarPJgecZzra6g5V\n",
              "rk4jTBqKE0EAjI3C9VjVfWoTXHSCXVypo38syojumQPDJrQgfvfndTi10eLy8Yqx7d5Mn5f2+jnX\n",
              "Q81lAlyyWjiJcGwfFSjdq0WJnOsHP0YZxswExnJiRy73eZ3XcxwRo6S6n66UEunq11lifxGSbT/o\n",
              "JRRYm+Bhkawd7Ipzr0jDwKYDQvUSa134XosMZZQbflgMR+wyxwyAiEr+5BoXg4YayrwDGK0yImoj\n",
              "LVm1YHl24rIWWjUScYeqrndHaYq8myEBWFBH2tEkLjmJ0rcQwcikYE7eVsK+29vOjGpH37hOxRLZ\n",
              "VyZYKuoAAAZVAAAUyEGaJGKeCIPwE0DUBPA9QS/+tSqAJIeg4CEskttI4+MdEUTovH77e1VLmVla\n",
              "NTsubT6JYv7Zr+DOSlnPk27MYDtGSv37/1TMWQAL4X+ettOn+gyl8Xg+oUC9y96G3muOlDNUEZiw\n",
              "QcBeOP5XpYVzbeYI8uHooSJt8KlI6pqmhtY/y0qaVXXpeQBj64nWXM80U8bCispSh151cCdzqUtY\n",
              "k6YhqwvkgQ/xrLPFoC1+Y1Dzcxwf0sqEiiCBTqvA9hn5zV9DzoIv86mBJiaOsANEsOiFDg17EYLS\n",
              "2kHQClesKZXuFsE9bmTn8H8I/7QCNkxrVqovPXHu8aGOWZxsq38JOtEDaaJ0jl+K35xG4VW/mzPz\n",
              "O70L+13rPg1jMHQQM5vYszYjLGJSQrn+JVxfAgzeYz9rJbvjKZ4wXQfyUWgLOnGxt1BvfpSyYlIT\n",
              "ies1GAc/5qVFIJul/WgC9ia6C7B4n5rhV8ZqtoX5/YfHq2uDWfXYYWs+EZNpVHGsE9xPAel4D99H\n",
              "V23PWybFTcnjF4i1iW9UzpTzuel70PlqSEKlkTcula1qMFHJ9aI5eyRbyMdzW1SF52rjVrsRRitd\n",
              "wehHrbo+YEKhyJhI2S2EYBxBolDe3wBTbjy83jWwOlvssIgNEV70rFIODhVCeiyFBSWGhFx//qEt\n",
              "I1KKhElhnhmUBJUzGdUWI9pIRmzxrwM0b/gJcYP4i9G4L5ZI4sIHrjaSY7sRco/B40gu2mqikrJd\n",
              "s9zLI83FCphRp0fYm6w8OqZ110Q+oKJPKmmLgseDhqCRKLrYjmG40WJa0Yd4OzosmlATOnbLTu4w\n",
              "Qhbzajx5qkydAOm/OMq0tviJrffF1MWm9HFdiE396ceIIi7YJw598A83LpfRYwiRI6yXaZUGJI33\n",
              "W2Mu5QFXv/3nygeNKMhM1JElBi7gfm66k/h3vag5Mcz6CnNZf5+mxp4wCI8hR+ZS7k7giWVAo6Pc\n",
              "Axtx/+4+s8T7+puYotv0kzi814QW7/IfC2RPdnWZJuJ+5QAXJF7nVCJ45jX3xAEIQC6/GBglAngb\n",
              "+IKeEnyi3UaIVRrKc/3Ynz89iCrnLFAqGgDpboVLDPVRtEo4g0Er0DEJi/aclRDQe2kjUYOKPQch\n",
              "Hc/wKTteNEEP+kASd6vjrb/AlW5l4Lzc+VEylqpc0ZjGW2lLBE1Ex7lX+cUXDgz/ibMN267C1eCC\n",
              "sFcBgwAkaVvBPqwDFhWdmjfqFSKWBYvD1LfEvEaBVhOaq2ffLnFwf6frNth9Zm2kNuuot8PkKYlT\n",
              "EXY0sUco54lhVYMidJAvh/QJ5s7DcZhnVIZSUDIvHTTuw4apL323LEUu4RKKDWMR+CXWN9M3f59u\n",
              "ZORlksG3Jp6YRoa7Nv3qxh3aYKNGjd4l2C9Y+hm01JELYQ/IQQH3UGb9v3CrVr1hlXdJQckGljEV\n",
              "NCnC6hj76QNrgMrZH2vjAPVWz25XnwpbKwhv1D4So5nobs00NRgQ6ETKdVi0ZTv1vJLh2Yb8jSz+\n",
              "POQ0DKpmmiD0Pi5r5JnXnfLmtOvCjNpK+NRNsnEaal7mmV1P7BhveWkUkXd1Tl84rk+F+rkLfxYP\n",
              "DBlmHAyyPaZzEkd3fMppSnTLH1V1GlbUo9MklYiPiO6aD4CBLd3NkXnbmdhdocfvh+jkZoLEhVQE\n",
              "9+JJPRnY9AdIVwBPAwYRcBmBNIy/HeOjm4rinegt8DT83vPBqeAXzBL0VnIiiHqZHbCRfP3d1zJv\n",
              "WS+R1lYVyzcgz8VrhD89iEtbl+riTpXrxxCzQeeAOPPx1sarhW8kP3VzKnW3VF2a5syEn+RYiEKy\n",
              "KiTSLuEtvrTnAOgpyaQUelZUWojrHPyIjoR+3sBk6hyMd65lx/4L6SSkwNyLM7NSWjNlXTiuo3GA\n",
              "Ldj/QZgcloYbSAt8/3L5YoDT3JmHAw86nfpjo8QuxpoN/CwbyxkS1Y1HN7Gh48drprQJgRkYnUzM\n",
              "ZZ0SWLUDIK16g22ZsoPlnl6nf/yzkB/wePOQIJ+zM6t3WOdtLV7AHDMP9TwAF8kMJCWR2p0jHY0Y\n",
              "4CWLkqJqemAyOviJCydUBjf5ejQsdQTAo8hI4gcm0L/UjcI9qGV4M+KA30ucFVBWolHyoKU/9S3E\n",
              "7Z0BbG3Nu8cya5EzeV8NgqxFXm6kMCD2O+0xnomfO82xg0c9ngcfVolak0xU6J0rJhQ3ocI/Gni3\n",
              "RoECss9hQoGyi/4DIOxd4vduP9Ts37SUasuF0FJYXw5trBAXuB0juJ9IGzjpmnhZZjOf+CdiCi01\n",
              "yqrIJoR62wXEaooLbvOyAl8L7ms0MEdEX4pYh8zQCbNiTNhK+cj72tUxUBj2gt1Quu4YySpiwTYX\n",
              "VNK3448tXtdfvq/lDGlx5NaNpb4t8sSWulccJ1933CdoG5a0Cm1v3k8bVu3rVWwRFIx020tESxJ6\n",
              "glSov5+uu6LzJmGr6jbOTvA0YJMPiz3aA0ZWuLujoqrOLrgvOFCNsHoP3nQqNkFmw/3q3TXqFxy7\n",
              "f+uF7bdPPWUWupu4vrf9UHCuB3GIggTA/2rvQjASZ9ZL+kJs1CCY9ssAuzWuz5RiZJIMZHhofcTJ\n",
              "HBOrEW0p9D8doybHBvBdm16vXTCGRBu4e/qcgx7icO/J/yjpVYWHcjE970aUw+/1mzm5pVGIS2Ru\n",
              "yfLtaJYKbH+sFkc41bsm2iu+GI74OC69jKvzxd/QSS6kQDlnw5XcEz3m/yL4y8lR16gDY2pctKhm\n",
              "oSrBBhFiCkhf73eceKkVKmRUb/U2FG1qlb8n+M38iBEIfbINiH147DZYpYkQ8L7rV5dqhmMr93Ic\n",
              "NXr28Xp2rGlBv0i3oAcw0uBTZviNIcPQOya+s84/4jKrE8F0uB2LGVJEw5e4kLSd8839jBCiv/XW\n",
              "MwGemwoExct1DENI83tkqVVXtWXuTneCJE+B9M2tjYfE8NDSx3CeE7Wui6jc81zpdbXiCM9xmu1l\n",
              "Atj1J7aT03aypD0tEmr7jhSnui5mvSckXUpkXryrneCOgaYnhoVyGW2I9rM3LUeqXNRsqbVFSZba\n",
              "duQWs4r5e5YO/KeIgFmjDAxXBHHXsCT+IjKLivbZPG2XXi/pT5u19XJEYrgCJRRDIC4WGknFrmyL\n",
              "M3lD5RrbxOoHy2q5fbFJs0pC9+O3P3dLqxMksifj+L5B3JM6F6dmgW32AnVEZkXgsmjMjbjsP39o\n",
              "thw7xTjLf6XbtJst3UTu413ejFh6/Cf+cs7EpHAXyAE8yM9jCG0MhHmCqP/4yZELxZoZHniRpN1j\n",
              "zU2VqPIjlBxfmRrqert6qpFjE2f67Y7+uYuJJrDMFb8LsL9hnqq+7xGw9UaXGY0JPeAB9IzRzzRE\n",
              "MW+vI2bThdxfA9RezLorYXSotwf2yE4wCi4JHyaEfF0Sbbg4N1W4gjcyz6amZAwDqn5N10DsTFrE\n",
              "9vSOw6D8BdA6OMM6DZu8oXMesYgRxgDN58SUzPApXetSZ276LSwRT1gci1zB4b9sHD1kzsAG5dps\n",
              "v/7Ju71VZCCpZJ80TwGp1kotMKE+vzSSD0rdzS0VZ7OEEf1IdG9CKhmAX2ZnVvD7nQYaEhwzCbgV\n",
              "fwmsBx6mFDzA0sfX0ZOzHreL5bWZO6/zU/8cKYgql1oSGDUEklTrjn0J3hnoVecufdm24SDJhQgI\n",
              "ZoCTjDB9HoOPEKUNUxQowQfeE/YKNPylXpRc7clqkCddlnOWIyv8dXuXusdp/oI9c+MTmqfCxD3X\n",
              "tWdzbSz3DYKwhqvOVreX13QbWpVP1C0Rf44dq7xeV7QjTl0GVmiwkFZFy0x3T6pN3U3PAopITgDI\n",
              "u1M99au6Zg3veMXeb4wBvMFE7AZPysOJoShgcX8SUx/Uvy7QmiUuZWxBJq2rKs33+r70wZWv68Ad\n",
              "hZm38ETCWg0yv8fGwtz84hMud8R5/hCTndnVA4jRl9qv0FVG4mzqpI0v/n2tz/qTGVKDpaHkMVjq\n",
              "365LHs9MHUyARpous+3lNp5zv3CDVLXAi8luJCpzljH4c4oswiRRzXyMp3WMizUKrOQzkxCHs0UU\n",
              "qprij1DXHTCQRJCKBZu6IFHNKo+j5SG0jXuw2fuGegltyLHAg/uj3+LOR9vctrzQWMjXXPM6Pabt\n",
              "nYbSteu8nFnh4agvlMBLMdvrl+WX6knvS1Xr5oKFOaZgP2Gqh6WwEUjIgBmEmInxQDrsnmk3t0Wg\n",
              "YEq92HdB777o/+2kZKK5Tq8GUCUmnHm/wrbTj1jsBKyAnmCCPnpkOcEdUZRMdSKQbw0oTjbxlWyS\n",
              "IxOhoVlISPxNKCBjAT0shC7s9xCc2IoYj3tYR53slQrrYNWkMjXUe7oOuIth5L5RXk0zsVrkApDo\n",
              "ygPTf7VE6k91EfI+Se7zaIUdv8rH//1P1cCIT+ZJve7ANkgzY6Xip5GjenDJQbu/rer0+IQJfr4N\n",
              "B6PiEnv39+BzA8QHM9pzY0UBeG6yIx7v1yZYwnD08ua3xH8tbOVtCQU6yfSDFPe50yPFGqk5aPY7\n",
              "Qd1qoV5es2rhEdFpU4fDcj9VPdkvZiRSriaCouDcs4PHKaJ4zUaNbZbMwBaX64wX/+vu9HoOuReQ\n",
              "kiqtR1w742/wBki/Lwi111ItK7V3ndPgN1LVf1mXgqYDcaP0Fb2tEQemJCjax0Rur61voF8RSU7Q\n",
              "AFWCe7VxrRVR/kpjKMKAjVvZHOG44JFe+seXNp5gXWQNNdXdFaCuzBItOinCrO7YTBow8Y2AzJeC\n",
              "BSgQE3xcG1RCkqOdihzf7AbnzhroFZosHxwk9pAM1WU/ABgftMsTRT+0e3NvlCxvgHE4j2KV3/HQ\n",
              "nLsR7DoryP0AAc+VVloLXcHgLy7vsLIAqmYRKW4VFw0pzTGIyesYQKEH57A9isxIVB4WRd1C6uj1\n",
              "4+LwhQBfdO+/BUg2gXPoOrGSzwEPk6R8zBG/tMMukAeTfXa2s9btDRJDv883yK5ThC42b0donCdK\n",
              "8H2Pp/uNlgiHNFj3IrVYcvlVlJ+8p/NP9nWOPifil1YdFncWcb5oJPHXUSLy8S3vaOnEtrqm8Vm3\n",
              "3/DeHdbNtbS/gVUTob0w7KByoGR5v4zv1Fc/dNA1LAoV9ZdhC9NQRO/c9zvYvo4P2OlE7v5vQMbZ\n",
              "q5HyJsliyqvnjLHpM+r2VZpxlmhxYMfNX7TbAnqMQnlRQD7yUZ7pyRTh0aQD8Zn8QghEZ/Oueaot\n",
              "naScM1XJM4Fp9JgyfIzLIZ9Duacx+irj2JtTFt4LOcsWOABg8eUb5ok3GzS9Qe8SMVbtys8Wj4oF\n",
              "P6u8w/hTaEdb+3AeN//5cLwBcgJCIPTML3kVbZ1trq2fPZJSTAqXPHTABPNkndhPBP5a/2eoKLXf\n",
              "udULqdMaopL+GDEGXl/Xxe7D5HWmTfHJHcwL5WE1nMfef8zV0kOWC8/+bBh0faItSwSSYq7dcU24\n",
              "FYaMw0SKAZzvFbrJNNetQkBNAbPqW1ImGasQDYdzS3X6GBhCufCtZRnWistY19DxzawIl4C0GFpQ\n",
              "x0lnbYHQ+ZnKUyeu5nJ/OPt2hAreIiWiEBNihReI1hNmPYtCrNTaadt23hhu0zc/b0Q6bodqiJ6b\n",
              "mpwy4e0OVG2jmb+iBANigHNQ7DJxT+qP2E40dL8yNK0Isc6EFOzDhANifq3MyaXzO3Z3MBLwetqG\n",
              "fcLcZFFr0cJYaXIahBu7kwNq8fkWnIJfCq9lQ+RANPprpLF1iG3gti1ZVyaj2MZOHtTGRavGo1aK\n",
              "4+461axiD+LtwBD2YIUsVuKUzB0XfH1eO64vxKWJtxrLHHpZuJJR0JR+zrPi+Vs9HgjwrTFlY7+L\n",
              "qmpz651yT43wJmKLd8Zu3T0BLUCFuQOzbeiSW+DP9p7zzSfWb4JWt7tGflXsE7GoJSftmXX/mjOM\n",
              "ioVRc8eIFfD8ebtmW/yZKI7d5lRj982gWCqLzfH1LE3/RnwKQoDo0iz+709MBMY+K8+NUR1H5WZ7\n",
              "0/qdOdnajed9hmVCDxBlkaMPgF6jx+4OMmIWaHJ9igd6UyMMbiTw8OtBEZbKpREJIQJ4uJd7RHLC\n",
              "isAvgdf4I2gX6YqzV5bQMTocaOOtDjEO7IsVn0okJSiN/cUe2kOBDxLHCKdBT+acSLAoOM6nSjxc\n",
              "u97qPFA13ply85nKMG/bL4/h81yBK0hs4FYHoO4H60xC3qWMNzg32KkUm+CuJh3s/0Xj7P/WfhQi\n",
              "miq7yZ8jS6Xrv/Vop+hqqL4VoG0AtC/0rM8YWsQO/zsoPEIK+Lr8WzN8HDb106bZRE+dVExtksvE\n",
              "q5kVDfrfaZtx1U+zJtDtb/pg3aSQ5JNa8TfpxqumirrYhIVKR1sLDKRtVY3nd60I+1KNboDtKIE/\n",
              "x9RFeMtdGrr6EIVaZktflFLbqgN4xYu2D+vJ4fchlFdHW5e1X4XOanqR7SN3TsvYnILnpmiLpkGn\n",
              "t28ygVZRUjGyaRq4sSsAvR34ZHRuOeQLimfViutNsiznqSh70/LbPxbqbv93sZKoKpQ/4wIv/qqP\n",
              "OcKnjpx76n54nJW8H0F+txkmdyWZSOil1KrAcnAH+rR5edMbCBctphOQz6ivMBCvxkumONNbwG4V\n",
              "BG7+jx9Dw6jxPNO+U2illlO3lPUeLiz1FIHpJ/Cm+YhLFwBSdpeMVhTP8BBvEskkLrNfhh4Kkald\n",
              "YbK78b4JagHj1G67Ouisr8OUSg8RcmFUJB1tyFPqGtf6bVzkKTrZbQWAbY16gXysP7xoaTR3+Kc1\n",
              "coPss/lP5pFX6cNchKpsUPKPoKCCWVSsL3Rxld20K18KLPfUq6jBs04+JLyuaZCLh2E0g94yPKbX\n",
              "Dsav19iUzemo4qHT1pbUffTIRjL6Lg8tY3ZQDlioCVzgfD8fiRLjfvXY21+eJsP5+u3L5rgN7c43\n",
              "zMkw1hNHllfdGpz0ZzSZdiQon6GaRQaQGb8qFo5nzZnwsMiEVnuji4YRevB2Y2W90eaNbU1iEP6I\n",
              "jmoh+V2PLfZijOqCjQx0/Xi+hl+2Qs6TcrFhRM00pz75DyYA08xa7U1mJS3yEhqgK2GppXAgFul7\n",
              "55rkLfrtzQTbPDnTNQXbrPh5E0GKbi/4ZnFhcmQ3cG1jlyKknQO/6he79FOoACBNoWiFKAbvGOgR\n",
              "gzOS6KiwmaqpJbVrusv4FP6hVbzH42zzKdXi0sIpi7QAAALdQZ5CeIIfAB+Z8UbVbEfXBjxNLehv\n",
              "w04JaSfA/caIOSB0uf/mQBHMGu6UpbiiuFpz3/b3EZXa6bseEhdgYuE/sTXkE83AWU8/xEh+K6bW\n",
              "iRSIXcLFr5hkN33pP89pp1LERj8+8VTsGEHwDxOHP1YkIjo1vrVHTrQtQLII1LPFWaPlcubriSrT\n",
              "TGffManjNHdwVwCBo41xccrSztWhT7CpZ9b9y7DxAhNDwa8fRGpdpYWBQyGkZ6PfM+TwmX7notVz\n",
              "ZPjHc3lT5yYKIgnXrLi5mTb0BaNibommGH25tYzXNGLVNbGXxs5sWnuJPYEJ+o7Niec6dZhintzb\n",
              "OdttYYcfDpF9JE6s9tLeUcV8kGd1BGQFkX+D7iG47PAPJjRyyKEYKFTitrdfjF1cIGsZo3euCjeD\n",
              "YdLAC8ZdVhJDt0jC3aTw8NotHnmAAtxVlPmPK5rRcnc4MPtoFXQOG3QSbTec7x9HNjGOsr1HLkbV\n",
              "X0YkjMylNP3RSe8aLQ+yJnlUxnFtVLINxpkFv5LKEhsDaO224mr6lera7/miva+8HhVJuGb1Rxu0\n",
              "aF9Du51cKMFouPYRG+HW6W0QEi+DTSdJfxgnpcSD8ogv9DSRuBpYsrn9judFF3wBuzso5Ca8moBq\n",
              "xstHm8YCfBluxPStTNLH3q/6Ybc67GaHJVnaozsP2CziOZbW781VI/zu2Yj/z9Nr0YR/WrgdlkK3\n",
              "XAeBKNpi3jVq38XC1J6PK8GuYLblaTcBS92dHXyBIravfEG4M4QkD0lcshQ9uYjnyO0T9vTM29Bv\n",
              "ISzkQgngHVRvpevd7wi+vkj+s0JbYOY1+eVVCJmK14KIe830cl6k6b7TyssdXYsO3v4IEXRJyXXi\n",
              "jbijshYB7yoQt3FF/uPYZ0/NKxSRK3mvEtskamrjPgBihsLA0R/j5MYt6THwC9Rry5JErUKzUsvT\n",
              "5gxEX56Vd+4T23To8HlOinNfdWLD9tvlCyYW8QAAAgMBnmF0Q/8ARtcp1H+uqhRCbxFnIGfrtljC\n",
              "xACVYV6T+l5FaWTVk5ERdx0LsL87iUnrbqBnlIbjqnpnYoN4zUV39ms1pjI2Q6n8HXgnvi+hpIn6\n",
              "cryXnlO1MFV6JnqSQ/e5xXNUu/hOLjv/6rV3zwAsLhqThuM8NjW3v1XznpJlQLN6QgOiCaA7rrvx\n",
              "we6rQDbChMmNWrnMYpTQpb31E2+ZHwnbtpJZpGLa+OI5HktD8vff7dZ2XaicPUHjPgVbvnnABIoK\n",
              "nmyvmWqTquOoYySC0qey2ANSCHX+XN+agZjpu1vErwVE5pVUxBlL9MdTf7ZTcgPp+hpHO9/gi1g0\n",
              "mMMbASz9W8c3xQ1qHECQui7sNztIY0TFkH5a+PjWMa1itPzo6zX5O4qV8LKP44b07ycTKpNUcCFw\n",
              "dPGdW2MdRN3V9pllPuFPAMCHT5xXwiYE5gJDsF0WTnaZ/8xqsj81E8fMHqmkbk1FoN9S+JLr4TQ+\n",
              "Gxv3Bt2FHlB1BfcVupVLWyqXPUBb1lzCToSotzgqjexTQHX/WcRmS0W7CUl0h7cOm+h93tSlZJad\n",
              "aFOGLGkyybTYoGI6CzWxCfrXh+2ADye1BUeeK/gFodfM+vUdojNdS1ZepI+3Mh2g74oI5JJl3uCH\n",
              "Bh9b7H+0U77a4wcEOXu3GfRneBeqqisQfgUE2nJYecmRuQAAAfYBnmNqQ/8AKMj8Jqsow6ShXMNG\n",
              "rrlAB9H36+RvagwkRTGb61zrpUq1gRUiKBYqTdZ2J/uRJZMuobClBE8FTKWj3R8ifLu7b5Y81RzQ\n",
              "PsHPU0ShN/xJAzangqX4vunCZcLTi8Z4n4I0qscHhq/gDDJnRyVM2MfhN2z2f0X0MGtwUg5oG/VG\n",
              "iM2QvIbW6ctUIbbQB3G/gNO41DfEgivKI8TmlTZWYyS4kCkSEnZAvgspy1XKxLlc7KUNdcCaIiYg\n",
              "Wrhmqu8m+VKoIECg2jBP/h2hUq88kFiI0a/o0bp40uhFDh9RFK1N0LVZVviKxUEmfnsKtxwwLjQ/\n",
              "4F4Gm9ZN50+4mEFJDrEOW/V3eBUoGSB4GHhUbNaZ154NEb0yjG5x+VQgONPWhoulJkYXCKGNIbmX\n",
              "KLYnxvRMi/Lk1z+BftBBm7wGNS2ZHBraFyR5IHyykgTrNHFlLpB7syycs2zL7g1ajvi8ggB8muZm\n",
              "xKtgEc11qj4MzMOhtLMyigRDlnAOGI0Tyk9wlsyS9Ot8j75an2lLGg0l00QPbXbysGNSiiw2fE9n\n",
              "gemLhpkNWuoxxNFzItEDNT92FcvCmPr1ORsmZS2RCB/i3kt1LvkIwm7shOkpWRb5IJTrKjYOMrpq\n",
              "1L9OqFYi6CRPRDrfKzXyOBnGKd5LlADxegGhAAAJfUGaZkmoQWiZTBTwS//+tSqABXCtynApePoL\n",
              "Nc0pYlpKkMFS05VvnEJzl0XChWvq7Ld0ZQQQz6SaBh93YyR2CUihGUM+0UjtCbVThyrsdPwF1oT0\n",
              "oPaIm2AUsbMOevYiNJZQ0f39biq5ya+KptfoYkXKk9+ZnG5wTpX6HZwtl3PAuGbSZcA6OR4mAGrh\n",
              "V6uysOAqgkTUpPs4HYSexB/YjlaqJwiU7EWqSWxYaa/Uchv+UsmlctiXO88GcByqvXbq72cwn7aj\n",
              "G4yTS2SvedhnGEA72PQFoIlGerzI7oVngFhV69sgw6DImbpyqjrk4wcxR0fu7CUc6H1q9MMPR+rI\n",
              "YA9IsMyL8SolaLdnW7edZwzLYl1G2OKT3LnvjDvCRD/fBtcWmtnhdYARt5wGGsOnrv/18SK8YKT0\n",
              "lAkF786hjm7aDAHl2/Iyj8d/hvnuQwglSSdTR7VfmnwH+Q386xDNFPpqRyW609HiggPtubdN1djs\n",
              "wz+EnzIobgMACQA8kib6CtqtBLdEKrT/QdoPeaGXDvjqa9Jb0ua0n8CCFpiPqoeHeJKfMzV76EhP\n",
              "sTU7d0s1O9Xt4hUtP/qZmy9mxT0hOnEM1830m+7nnMP8S4Kho3gXY2DVAgrR0exq8cfyawsBPitw\n",
              "1zcaJVU6nYbD0BoDX3RIZQQJInTE19wO9fWhW8Jjl7kiqDZhVq8vefpvQfItK91pm+dohKVxzPm6\n",
              "95nlepdK2e9gluRri3axoHE+OIwPbnyv96TO94Am+H/zTY/kNzuJKp5cXls6H0ZCyLt5DsU2O0IP\n",
              "5CxYGiMIh0iOM6TXSA4lP3RHfgI7aN9dVWI8dSAPNA52WrHr5ABxx4rnUumyEhdetUYRe0my1ay5\n",
              "gxY9pfMpeDIfnHhP1csGBtcqW18cWWVKK3FaEY+zMVfrvQMjjzWYWxiJ/lgBYQflZ/ifr9iYYK4y\n",
              "xqgt/3I4Qm3PCVhdmCAX8C922NxbawdY1CFF8sCFd+Z8Ge6JhgJbBaTQ80oZ7XAkq2EA9WtmXAtM\n",
              "1SRI3/Ja0Pzlk5YgeRCSEgZ1TdIWL6NXiJBmSj5jZvKI7WoS1M1SsCtzz2Y8dAwH0teVHGuIyat9\n",
              "zh9EhWClRzCY+BInsZDCrXUhNM8mXOd6Zx/BkyKkUSSHz3Pd3SsZD9IvYBg1wnz+d8PyMxuOUsSz\n",
              "vcc6RXWIztDwHWaWvog6xasD1zcfi+o9w/Po9XA9udQxTkC/s+qaQV0BPO3X2Um8AgN1udq2sQ80\n",
              "9Ly2Y/FDhO0KEHB/7ToKZHQC7gD/3rFBNRwhUnULVvfPItcqLpieZSF9oM6J1pqbsy9ctZa2Ysla\n",
              "3TGJfxcZO3KDniFYdt/jYeumRy8HryWPTaEyrFKkGMT0lN3wSgSXIx+cojz+h3U/LyNY7ML6ytUP\n",
              "I4KADkgQ9snGYGLmXFSMC+9MkBu9JhYs0ie2wShx5zNpdWs/bmngPdYF5hGLkbizGJshTbH/ZLAu\n",
              "X9FXcP/3mhJCAVBX3zoSisE1EMSP7LVpLRVT3h+xLGbmaTrTB0cNP8HJdkTU0P21qG3Mia3uJH05\n",
              "kQgkP8WipkKDDTaLG9xCv4po3sSY3SpUUsMHRaWaImNkPqnaXhcav8RJyMxyuSZ5acohoLpGj1+g\n",
              "SYvSOfTewb/w1bE1PAILbL3R+IdMAeVZMdcVV8Of1jUumM8qnc7/p/BYf7ThfKJQyWVXb9DFAtw+\n",
              "Rz/39vUbDskjJYLbDOeL1XMDlfqweJGxdTtGw5rCIbSls8spiXwaJ0X49hfkCbG4LLHJ8Yy9nGKa\n",
              "WeWRvHGGfgK+JO6p8Ciw3/vtFMe4OiktExihSnv6/LpChVsIsAQNY8LoUQ0eq6tO8A11OPuJppSn\n",
              "2g/Tg6NryrWJcF1iRd4VCiNW9AdHQjN5bg1k3UbCa3NWHpcjZ1EzN7YHC1pck68jkCtIY+dBaygU\n",
              "3VeYZWgy/EGEtaMcQeurgUPb+2YV8Y1vz+dl/JZkdPBQpcj+34aGIrr2ovOK9EXXXFzRBGZfOeGd\n",
              "1Ugqn4rB8FhvEp253o7Fu63yXAgBuoM2tDuLbe99mhMN2CFqaIUnG//d8Hr4FYb/xsSyTIj3ejXm\n",
              "k0e4rmOPw3L2/aCWAzeqLQ9z/u5KYb84pWURE3hvA1rNDTQwBhKOfcSnrn9V8DAZLqua7usAQpwt\n",
              "N/FxlMmkfaikM1qaMFi74kcsNK4DhGfTdSugW0z7vI96G/9vecbHaP5Yn4e32/rRXP0PaLxdrRrW\n",
              "q1WP9YPk93jyOl/XuB6dO+kGwNcrJJ0wwi+IVv2KLGWGzSd3O4SJtQ3NrACKkjorOMEPKQLh+NHl\n",
              "yL4sCIeSeijtoDz8kT/YA9qJ7Qif8m+qNIh+f+BNU4opnKyE5Dn5vddV7XJ/OiwoAMLbxnhGFXGu\n",
              "Qg4JUsy9TZil5vuZcXvX9h/WAxvPBHSsIjarUUwCNnLHMSiGStU3OhwGCEm7lSFSjMGjN8Vf7FeE\n",
              "C/boNEfzWjXnWjHKbw0zChvwCUQirA6GBcFTu+UAQJrwZgQKth4El5DBMu+tLYYY91n/5+3HTA1d\n",
              "XCl06NROvUfspcQxhWMpKGicuKQY7m/lgR6Be2ev9lYzI8m3a8X6evqpFMKpMq4uCCZoqnvqlfen\n",
              "+kXENjvbvjGVP2mRMUmR3pyjkOrMJ4LyiA0m4wLBl8ya9cf5FgMDasWKnyEZObIllspKxWZ7vRV6\n",
              "T9h4MegLdOdNb84P45MRfIAAJQD3lZPjsqsAGDK99o0A6v4VFYelQ2OFUACBX8mcKZsyqaKswT5Y\n",
              "e4O/hbMdmveNhWgjDTXzcS8brvFzm7ZPwrnO2xp9rQPZQAe/tZgiezC8pIRyxtoQk324URnftyAs\n",
              "3I1UJ1DIcGJzFmiviAvChg8Zsjbs8KBY+ts6TbaH5XsycGbQZmMo4F9ApiYfeXq5v+y1DMc7sMtq\n",
              "sXm0jA2qS5sBgwUJfTH4tfuWNME43n4s8NmAHNAdhbACp+og4lPka39O2XFk0DJD5RJhGGo8KT4y\n",
              "N5V6J6Na37QLaD01Xn3h2gzNzPYkN1saNglitV78mRIKi02XdnrUocAu+rNa56cpwZZqB7RTB1r4\n",
              "Jsikamgeh/+PCWE2/cpWFYlmrJhYDq95x60d1fjJyMPD8vTtr5Grl1jRmgG4F6ocMthsp5mdH3wP\n",
              "5cfSXuf9wZCNsgiCqdD14q0+fqhbZNlbaG30IZysmqBz8ocEQPPfiInUVMQGKZ5H07rjNAY3i1Hm\n",
              "iyA1Axrt2yohAAAB6wGehWpD/wAoy6Z3msjbtJnijcoCK+Cbw8nWeayIuS1VjNAgDCWw27lNOwcj\n",
              "AOxhn/YNnRgGTTjWUQh29ZG/JEEbTdgK3rVl+Sn0RIEF5qyuzJby9a2Np7CYROIJWttmU3srGgZB\n",
              "jCeTt2qxJKljlZ2XQ/2JxvJwqTn8M/EO7hGRrzrH46Jl0iWbGErioqQwLaYKKStZ8mQ4xkgrC1Iu\n",
              "+jIcDMap7EITz08LeVvcuJL4oMa9ElrEEarZdvS4gkI3sK88B4KUY/fUY52zoPNmdLROwzpK2960\n",
              "6Ofr7w83NDC+yYVB8igZSIWMpQLRfFC0X7iSWZtxOK+wvAaiTRbB7ntwODSmUterDUyED/XzCsKc\n",
              "VzyUG5ybBMW++Fps4GDBZdioOurkiBrsvFDE6CcGC0LH4Bb//FurtpTbjETCgS82UzajGfI6pWm7\n",
              "hdzmW1csJ5ZnWGUzTZO2nMLGgkui2rB7/lln3Qdc92oRC+N1r8mOiQyInPPS9UUMyRs8y4/r0xTv\n",
              "aiZ4A77OOdEnRpY5q23SQ5WFFrFdinkONYJwgxRyMOc79L7SfBuK9DqQpAgtFTo8EmSJ0XaI1iCy\n",
              "N9tu2maT7GakC/+lEBYgGWTOKYICFk0JhQ9l7E7lyKtw2axLsyJftq+2sC3GAI6BAAAGokGah0nh\n",
              "ClJlMCCX//61KoAFcK2jwMYmxC/mPcn7u5jnPJjyOL+4EjaMjmytokkpfl/rAM6HT+B4FGVJ1Xeu\n",
              "IDmqbN89pa2aAOv3WQ0fHci5DlA+0trWYnPYrt0gKNvqmYBugwmItHQR2cvEpwZVd67N/O/EmscH\n",
              "NsCNV41+QmQ/DL9FLrc+ze/VnGkR6KeT9N+2+IqgATLtrwH1Gb44G1KGZ6aYCi6H2f8rrjAMY/+O\n",
              "RkLijoBFFTbFcECTWQU/fM9HzHqoC+KsiXk5I6KRdcVLqrWHiv1d9SraiVLNjg9T4gI8o8jJ/jc/\n",
              "KbHYcdsI32eRTwGVsyXwd1ZQ+9FXhJ8HuPi1ELcGdi7KjUoORATxf6bgcv6WjdLIhBIT3tYDMhwu\n",
              "UBiy6MAODB+Hf2mekfdJHaDSmo8ZTeiLa0FjEjCMBGEkENxs6pxmTIlCaVrZVSBb/kuy9NPvOqVR\n",
              "E8bIhvRolJTsNUEEGiKrscRO7EfWLoqnigtM4Xu0g+biRv64/iIsE8qBaF2E/A2QxK54tXsJlKvB\n",
              "leESZ5aLCqqyBvi5mJmteu4+7Mjp8xxDuAXG/n5WY9xgkmrNnaoTTfaD/Tb7Vhelpskv8nKMM2wL\n",
              "fuoQzrStSN2Q3f7nGkrPD3UmTcg+pXFLNXKIK/adbDAPmCVQq+03/Q1aivcQ588Uv8HAXh9VS1h6\n",
              "rvvTV1MsonExHt2eRRBGRAXYRCDWS/QnxBTaS3NFDlSCHI8gyJ+kIZKw9XTwOdm/QIXqlXu/aDgp\n",
              "siGvd17ENCUs5MwUar6i9gWJoUy2IfXUo3w/hZ24tv+aw/GiqP1ObWQjTimygDydOJpsQiah0sFk\n",
              "iv06FpiVPSMdnokGUhMy1NMljRYKuPWoCcL1zM/fzGa0kv8kqKP4Ca5VgfP0nbJSNiThVhHpzzay\n",
              "yqBmlA4THXdez53KvRaf34yO97WBMrRJBZ46M7oQzhR3NlRcsCq3gBfQVegZrbGfP0NeGpd0EN4W\n",
              "mTEKSm7NesZR8T/L0a417wKSRCjmacslKscsn6USRSzyH3x0Xlee4AwsomkTaCfKG8fFSL9QKwuW\n",
              "JDv3Z7bzOpMUDgJzVEBBqUQ/o2fmCCt7vlQR11LcoThXseJ974DrSNrsqKPw8H6fXsmiBsOpTcBE\n",
              "Fu3W2Pf2O3qVVryRF57Trw9qZnF/G6nSbRMyFniA8RpXq/gvdJ9rEOPSWjHEnw+NGFeURZySsuSO\n",
              "umoADUIAvNpHPGjwWNKMejCKzjZ64lg6NIgVZKdIhY4cvUxuy9PGqoHvkjgqqs2K8IFALMjv93DQ\n",
              "7S8rJZSRAIQb83dGC+DHbE9+hr5Z5g2MsiFaO/1B0amfTOjyviE+hTSPJuvLvi3UZLnNAD4T6SB1\n",
              "mrL2OVlmUpSixEBxemHW2nXRuR6ngYZxuzQaUqUcbLfiUDDbEKGm2uF+UZmIWQzxhb7Fh78JC/ML\n",
              "pEtXSnZ09iDGF20diis80/Nj+ZSXLACtZb3Lty/SEYTbTHKFfISVZ7OjCzTeMcCfbzzixINkYkSS\n",
              "zBjG75bxD60g1k86x7Hx/vuRyyq4yzQNA2sVFoA8j5+c2qGgK6uodReNfGD/iLGCdt1vNyvWwEx0\n",
              "5DlHG6HyWf62wkufcfEuHDkCazWnbXG5/VUsoviqWyxT+xhkzVpqNh58TbsAuTqn7g+AwPCNEQUy\n",
              "e7D0gG05YnPr5gatJN2Xhu2iWg+7yYH11vxeiEIsyUl64QSKuVjXvVGcOlFAUxUrUN80zGwSk/XL\n",
              "pQVesy/7apeZlOkCO9meWJjBglSx4HMe4ocPthxr2xydrvHHMPPNHiddiXWGaDtLi7mTxxGmLt/Z\n",
              "92k5dpAiQTzQOKaxo6Unt04huqMHP+U4zVG4IdOrY1JjyhayS6wFcC3b1OkWuXGv8+M6PtHGV+vT\n",
              "QOVYdx5n7DaBfRinZCaizC+6KZBXr6OYiaMtHS/MkpgCo1u5AT8mu2f2l2SHVzkFf0Errlt9eDdr\n",
              "m47sDBcjTOqY7PMzAcZxcLBoU9O2v4TYbqr5PUkIOvBge66HERXyLeafGsdWOQMZo2Jtr5Cvi5yi\n",
              "wCiNNK07yPbdIJus5dVVFtczsxTWo5lSY37SevEqvG/u1A37Z1TsGUYzQXC92jqIx5ChMQ+y+2+M\n",
              "+qWleejq+2wAhC4KTyU9wLn2baM4hBCQWD2W61vWkyZTRZ84Qow5qjnuEvsElgfKeXgMiemw8br5\n",
              "LyZW3bUbLPDFyrplXEckzkhYTHPA71LEdflM7I7z/S16gosGmv5IAwAAB9VBmqhJ4Q6JlMCCf/61\n",
              "KoAOp9JSypW1duAzd/6z4kX/d+o7Ccf6wJw4h8T2i0UvWZPudmQ9df2kqfeEqQu9cIBDTCjWMKqt\n",
              "u2KImBWHcXFDnrdAuWmFGZnEyT07cRsdQE6xPGADswDV3SWvfnTCRqAInTyh06WanRcnQpOVimvN\n",
              "474yR+zA0e0rZ/2Qd9wSumL/pzIUEsjgF0vLrPK4eu3rZA4s2kDkNjpU5U1tZM4ljpHLwFrFG6Ir\n",
              "BACvunB3CST2Rb4tCNXGSdoV0ec4ijhU2ZOXWnsSV8nHtaQEsDeXbnJOClxvVcu/CuDn2miWq7Ib\n",
              "xxTKtflatgEkLeDYBzoVOC6vSKTmbK4Y6uiG7V5b6heJG8ZTEdXvTSkGrbSRhYmWHmLzgEvFEHuF\n",
              "9vG3S7aGtc92v/C5Yop3hhfszdEmpeHG5L9PZ9TEPn5hBBSMaVM262TbcthGwkyWc4aa+Sf4gTJl\n",
              "8EEcKLbhXbYnPty8rJZ4ooG2+zEYy4ixzz8rRAdmaZGt0ELlK62vOcxNhFO5+VRX6JBTE2O7Zdo6\n",
              "as+Tu9rR5qxnkKu7kGSsUOyxykQPWrP76kEhjoLw6jSQZRh2FzjACkzkSx7xwuYo2U5aAn4bKqDY\n",
              "XiX6zdrO4GgtO+z83Bmy0/VrZIk6mp9C2X8dJ1d19kXO9W+An0fMzaAeMagE2raZWGAAUcomLthn\n",
              "nEx/n6ZxYmXY6jEl+cojOIW0GI3OORREeLn143dX1ayujxZkMN2Z8tiFM/MCtRfBkC/AN02MeZKG\n",
              "xwTgx3rnGOKyLX2x03NhWKGk+KzFSawr7Vg/xMFRzVzzwj4slFAnqn08zsnvF+vPXrlyuxoZRZlc\n",
              "AE7J0wSJS3//zcahHkoOhju0b4C9joca1dmThXg9NgAJiEZzJKFyJlRJmgKO6CcgCn4WlBkTaHBP\n",
              "ioNQWMXx8YEyaHlTTp6kSNnYKADfn80XLVH7xyY2fKQ7s9CxIbY4pCuedFi86MHev/nFkEzt4SYI\n",
              "ccsex4WgnKp8eUS9UFyU7o2ql5oVumcSpJQspwCovgYRA2IG9E3N04K4IfBv+gfpolHpiM7V8/Oe\n",
              "wRD1pcpI4MW8GRYAkch3CwFaaXV8xvvUy9MTrMKUV31Mtt5DIGH2cf/P750pAB9lUNDvlFVNgcCd\n",
              "LXPfJf7lMqU136wZ2yu9UFAPkNTl4eQdeB4EM3gzFaD/M/PM+KBBcRERWe8cgtUOMz+JsoB5tdUp\n",
              "eeGnBIYeQW1LCq8iSk6Pm83F8/eNpz2ZrDHCRB9mjEHfKHNQQEA/DNrWcoUT1ppKewqt8J/TvR39\n",
              "rvwGtff9G4g3vUQSgyfbKrZFdUVoN2OoA58Ki++FhKzWwFC/0Chcj2OjeiKNkniiDUXRPWBrfuuJ\n",
              "1oCXE9ARcK9YFqJmz/gd1iIaULpXueaYNt2Bk2FmegkPh/AbMjQjzI2EDTyvTsoX9iLfsmO8wRSw\n",
              "zYzhl6Pwq6OTpGhX4WEw44i4N1putfkwUh/JRy4mplx6DUFndzMQ+f/mgRzpgF0BnoriNjpRWRsb\n",
              "C71TOwNWqOn34qmUhFcbu16zN2v9xe/VlSBwluxaZ3vQAW9tzXTCJX6DYxXn1JJK6VLrRuEIj9vs\n",
              "mQN8i3TrqykgTeNQut3Z8RyRwQ81VMkjvl14qkNvQ6FTcA7IFZLXqm92lLPfhp8I1gSS6TXrrA/L\n",
              "XTDZAj5UbhNWgQ9MqHzMqZheQbnJdQ3JNRS3NaUfrT9+TuB1F4UTDmTX8C6KX+UJsbpth29aGAZ6\n",
              "c3lBPuM+ylC9wuqHlrkl6ibZOSoVgfiDtTbYZhhjqJxmmUhP8XtFgamX9Oa6D6bUP17KvcCLXP6t\n",
              "+crIAimr2nAifldSfnOsnc384NRkguR/8lnDMXfDstxQnlY3LS6wZTAtRc3sehv00y1hz5hEtSAn\n",
              "vT3glYSTPfVRky0/KNrk5Cd5lbRJZC50j3mRvm+RblAm3soDWXdL41vdIVdfqQiVxfEt2CIvcOvE\n",
              "PTdjlCjIspSYsvwN+WrMtIqjdLR4FmJIQZYvbmSmqs1bP08T49GJy3MBnGZXzVNQ8b11v0yOOxTr\n",
              "FDMBf4Nh3Q1u1Wr2E9lOEWjMtLINoQtUUVJi+kRY0KAx8434XT4kXxZ7IGPs/snHUm1UUHWFKrJb\n",
              "TicfqvWvBQi8SpOZGEL9kuItzRR7CKEC/6MRuQybps1sM4JxLTo54ZWdivpUT4019elcsRW1s7y2\n",
              "Fu/3hN0uNSV9VTgdAmKFhlHWsfXloA/w26grt1UHFtDHSt7CQLl7I2l4pOJzWeNfLMj/GEef0XMq\n",
              "JkMIncPlHdd39UQs96MfGs1oXHC9Y7aPWnlYQgPalfy+z6ywuMtFedlmNn9xu4wXuixk0oIQ9NUt\n",
              "1O3KjOTQ32G5f2l7NcX71xVQIUFQMS2IdpUImZwBASzIJ0KKYaA0yofAh1z0X1gJnpd71fVFofBR\n",
              "rM1Tn9RABf/3zeGb8RJhBnUn9ILSZQePq9oxZfywvjjjsLHSvDMlLToAUFU5899FczXz9fgbnVgr\n",
              "z72yktmFskdyKDYfYrZlVrBlmi5B2Rair1+cdbGm8j145G+ghSnJSBrieAjgzvCe2Cm8CEOfyIkY\n",
              "Op0aA+QXa6MLYGeG4E28qFxSSBRLOtlUnhM1gxTx3HT4UhKJfY3hkC3FU+WJhQm2aB6l1BGfAAAH\n",
              "A0GayUnhDyZTAgn//rUqgAVwtXbgMOzzprEUZ/4pqPN+AgfgTcELZPWi0Z7YTaVD18fTINXH6Jcm\n",
              "dnCSFoV7RRmWB8XeFbc4rerSmAxQydEOUGuCU73YqbBYOe6n3t48c1eDjjP/1E4USDsrhfoinAVg\n",
              "ijHBIUjXdRuRJDdAYUE7iwbXBhMrI+Gi2Sgjmq78wmBlQVZY3awuuMrzYNwUiPb5trjr6ZL26KQU\n",
              "9eOaI4+RPLh9jF5A9fGYZQweAdUle/WcU5zmNgGzP+Zx1n7PbH+0Z7/EJNM12BcsMKhRH5CdLrud\n",
              "MKaxVN9QsbfJg5Z902dXpTkqTIZrfqgvYEtH/nOwirNUGLmRvDdXFpDhKbtP7W2V/i8vLMI3hOyD\n",
              "VG2+g1B3bMYSFY0agde/9BBwRUlT8Q2mnQaCDM9GvtN6srq3wQFHZojJKIixtV+pS3JTjiuwW/rj\n",
              "mUt/WHrOiJH30WEyeoITAM2PFd+zAE8Ign761WMdsTNL1C306HxboLXIzyWjNg7jctB7pPVY1tM0\n",
              "cJ5IugowBagDMPujU6yM8lbUg9LGbdpnOEr8TLTpXeL6fMaz5oCcUUGcgXmr1dAqJ7/tfniH4Ear\n",
              "iBWr4pxpD6MT8XA61LooQatC7EQodEafIJ2Q6vniyG0Swy8fclFBI5hn0/ZSDEK3ODKawckVnILh\n",
              "zstpwJ7gfzeoI+BzhbtOUzuLJNTGpRDCUoly6OZC3vALfm1NiRdEwwFf1Ygn7/MWmmUzsUBMnF2U\n",
              "2BJTKN5RI1wsqguSVaj3JevpvDZXGC7Pw+O8opoZZibSHtDHIHo4tLC+QeBD7TRmtYenrss2uaUp\n",
              "HCMda0i3HCDuoRJ5mFIvci9bBBHPcsEz4oKhyhmieHcOs8z30Xp202qn94dkmvP+sFSppmxH4EQK\n",
              "2CdiSQ4StXKfjl2o6MuRs7QbAbgsjoNJHCC3xC0GqQTkZRSjtWZX+154kglslapx/zj593WrwPBy\n",
              "yaw90hFU95F6tKX0MANe+sOZn9EYpGDYTP1ANF3rJJWyY9/VXMKb77jEfpWrD7M/TGVYF9fnnNX9\n",
              "TntnQ6HFFCVMfE2XOYEDY5OioQZehsZAC+lIXF/z3KSt3ImbltWbQQWxjJMo/Di273ShILYABGfY\n",
              "OkKMPSX06feXKSYJBekSP4ie9JA+ffuvEu3Qa/2kFKJoZrKw+X1vF2SbV6C+9dODfeZqwZ53g/3/\n",
              "XLlOtfy87kX5k3961YS09igqoeq4cbL8ttoPC9zvoraBxOLKUdX+c9sXXoQf9h2pSIQQLnBzpsJb\n",
              "7B5K142+cPW+62VOZH9hm4lCSmGcAy5wZ8JwyIPIfXdCCflGXSz/CO/zoa0zB2MykKcUB+U7BSGt\n",
              "F+9R3uU5PZY0KykG9XsWq+WaPCqk9gponosbanL9oaqwsY0PGtFf5zN10bpoBQ8nXdhhnBbz6TJF\n",
              "a+XROEyMfN+Oy6C90SW8OrU8QyftHerdoztNnmicEzSdK2gqWAXKbgtvAgB7EKDlfFVVRwPNCs4r\n",
              "+GFsTpgvJIleIGK0IYTGcOCluGWmuHlNLp0FP9eqDjRx4W1mbsgqtq4sagb279591ELZSzgvfDrG\n",
              "epofX1QV+ZXz6JmYnM+F43kEtQa33oWpZYXUZrFstmfxuBmYErmt0KwCZOrZiJGeC6gQUlVP3VFq\n",
              "XlrsjKRFhgxMkS2l5tMLfjPXAIv9cIO3eVixLl92ls4ltyMG7XBx/cGUnZ16yk+SkTe2VtHopRs3\n",
              "ZaoPpuDnj87nxA2WQaP0dAr84q3PeNKvusVQeAEi6fCGAYFK3eQyJhl9hRMaObcG8FsT1rsdIIZN\n",
              "Ea6UgUAljvLi5OoLE8IxUKO3Meph8NzUD5HQyqZpIWLCFs52ni8w1e8U2EWavea870ZIB0hJ0jdT\n",
              "xtxT4BTpCLU8GzWkI8LlrL07JKfSUPNA2Lf1LBTXKSRZpM3vW0167l+/BKZW4Xv7OdXKXfaEt9Oj\n",
              "2/A2sow+m1toawNc9LS6xTG5fsHN9KaXQInSi9yDbxPV+0tqlT9x2rLsnBk/WzWhwI3NoHKM3pOV\n",
              "kz0BwUUg89WGzhpSOjBmJwHH/H5Ex89EcJoNqNzVoGEBslBn5KYV2jMbaiHFGiHQ8n36HBQc6/BF\n",
              "27hQYnz/zNIpVmdm6RT3u2hdJ8tyH4ACFSvlrsDsyvO0pBNLD2f7laDWMlZw+2sWzHlNAR8yGocY\n",
              "EMOGAderTlwxjyPge7fC70p07eDJyU+b/mIIDFpzm14BwluYuFy0eMha2j7KMqm+FOuM9TbXuZou\n",
              "NWCerCHv18i+Soi+aWRbwWn7KlKwZV4NJXXm3w1QdN5r2GtxwIrfWBQ9wBvNt5B2woBSv0Ifw8Jx\n",
              "nR7N4IvujNlzi3ZDIaHz33pDlW27o0EWocOkJ4UAAA5iQZrtSeEPJlMCCf/+tSqABqfwhohBcT2Q\n",
              "AiGCEpoWHbhwufokJYe3MB1q9MzCawP6Sjhp7ianwRzRTuxr+J+LM3gV91YrrsgdgKOS3AjNFXwG\n",
              "WeTEpTe6eRlKtpE9mnCHBqzdfXF/ZiMUyr/46tv/YrNE0Uzqe/2ndVU6fmopw2HOz928snbEgNUz\n",
              "1kjCB7EiiIddAA2ydaQhGpE+S6nZUjs0Y0mJ1wcTqWZJYJkbERlmRVeRLzWusv+Hq3wN3dg0zVDt\n",
              "GjDTRX8vvd9j1svnMdZVlNAm9//01tJSCAZRyFoKA1EgxX4NsgR+06ME1l89JvhuWnkZXH+hEVGO\n",
              "Cw5f/AWtOH/R3zJk7fp8RGJBLDP0ME4TT+npALKLTasTD4WANINcrdfXDvbVF4BBJaOHX+0dn3eY\n",
              "qBzrW7prd9bAw4xsvbPriMB7UlssImloPIW8wjr5Czqklw0QkuZSXY3PIx0Hp871TUubWmzaWGgr\n",
              "ERUBRc74dZutrWGKt0kU9NOg0zxVM7iGX3Rlg1H+Pv19hK8YPbPzniO3DWces4AIakxwysDabYR0\n",
              "J7IZ0dqtr8sA0ceOrmG6sWfyOt9IvQ91C+YbMuTeXUZ8gQgA7YpxcKUfhQ6kjdjEjAOTZ/gk4hux\n",
              "TkJVAS3EgMBEqFWXS5hPRUiOzZUxjDqph9YVYzKI1nBMInTxpLzQJrUmTjzc7o50ap6OBi6h0GX7\n",
              "qryAl2+EkuFEzVODV5syhEYtLtdDKDEb8JJ7TDQwbgjiqPXfkjWTibFm7cGs9KeQXe/ES5QOWooX\n",
              "uq36oqIt6Cx4WkCFSUwJ4uSXHzLGA3/cCk6CbqGdF21x4tFpi6WHziMKE1rnH3wjOxDpbbGuuL5D\n",
              "KJdUMRrRColAZUDI1sn4agXe89CW02RiMgF+OmxElHRXi7JAOcxtoDye//xFy04OLLkTxulHoX7P\n",
              "vm1VsrfsgXvs57/t9/EN6FZAYQFJ3tlOfO7SI3CD0tc2pay5upUKA3dfUq3rk/I7nstLpIl/uHrz\n",
              "KpiFYI5bwWB2aD2EG6y0axb5m0r32iB5rvmKualHuYlLbccWElnAg3DF1KP1dmaid1uU77CZMWRT\n",
              "tVWbal28J1TOjG8CiYf8SGkEIb285tkqEZWFQBCeeFKRLAfjjky2zd8gvRp5kJyzQkCL3+/Br+u3\n",
              "eljbT/nblVVyO5XgBhp1KU4xB77X3HsnIMAkKF0jDzcDzLcelevzi81qRqM6QnVJrh99KG4A9VDm\n",
              "+wJv5yjzyXJH8EcHjXQKdPxxClb0oYlmKxamarEOuBy5KVYVcuy5EnlktMddqigql6KMOiELbJAN\n",
              "eXIWepogbGdL46jyVsVmrIYxiBjA5chm1yWFwHNCnGllDIM6n1OjNhPiuPrmBUNJcqdr4r7Iy/6w\n",
              "q9B1qV+YfvKWpVNR2p8wR9jxlGFal4/FA3xuZmcZPIm+FLNhia/zUxzRbcZcShdB55UF7cwF2RhR\n",
              "/5S2l1mOyAR0POuemSQCvm8/rT/IBY8Xotf1bPFR2V2StIsQNAUQ0a66GBVRvhYFdz/m5KtYeFcR\n",
              "DRzDnuyIh+nDHYeSPNbX1OlGwe5m3jXjlDeBZrUXM4V7s9TyQPdv9KPZirkB8KfQyC/mdJrSpKEQ\n",
              "butNCKZdnKPjDdHTWyCgnNoFGxIfeoOgC0nTmAz5ldFgwyePKi2n76wJUMfJ6ImLG+z9hWaXQmlV\n",
              "+7DbCMi78vJ2oAyYJqOOyUDMH/Tm22DdiSh6lQi+q1pDzh71nZEOKg2O12pd6a6AcsYtVrij4Pd5\n",
              "SjO31t9JHILgFtIjjy25jvRvcISvYoRaqTISZjE1xhaXoZIXS6wf+SEqsABLtx+GpC5QNUU/xX4O\n",
              "GKHkLYfrvBsVxCetTLRoqT2CeNVaEpkSMtoptSzNuYFBIWqy8sg6hc7S8LWQ/Wom08IqHi9SBEqr\n",
              "IZoathRm7mBVxx5csLHUJwUVGU8Oi1e6w6QwNldE+8ZikFxMECGXZN+ztTvB1Tu7NGtR+mC+LhQl\n",
              "dMtx/oclpdG7h9C8PEUXliA0EzxvZdnCDXb7CpDPqp3U+nNy2NCpucOg8Kuf36cKTdQ5QtE2C/gc\n",
              "qGXRDnkolKqiffqc2rGX8aUBHcu7S6M8BI8Fw+26LyZvN/bBF5ZJM2eSJlKy4TrBmZI8kwoQ/u++\n",
              "Kh5xzQVjpwkt7rgvJkFZozGIkAkmDuupDxZrkLu4EMX2nbIZdXHza7WJYIfAR+CUs0TL+E1r5Jsf\n",
              "g6/Dujib2T99KzL21VJzwjDwqNyVS4Lb8KaQozvn9Jqx2JPC2ynjj2SiXXFWF6qYx/9xRNtjSMLI\n",
              "EVkz0L/KS1Ts5ZhVbW3I/OWl3Td+BGiblS+He+tClcIWEFadpT6cZNnoocZklXnMl6dTPrlyWiXx\n",
              "sTwT0HJAR7OuoEy0blH7DSDoDUMp8fXsAGr5ZssJUtr/X0bkJxrRp62iutYMvYsqBQWXG9l4ecHp\n",
              "Lr+Tg4pt4vAh2VFw3xYDZXAb1znylA//G3WuvBQ7x47KN15OnNHWR7jvJdeMgocitJvWh0+9CuZt\n",
              "OUIXc6Jy3AtrIUCIs12sTkXUxZ89VnQaaCJAnjzOXcmyPLJB1IhUgvsohbvGiGqNb0A9DXDPGmgK\n",
              "6frbugU1u5QtWK6uFkcqT/w04GEIRpYhGI7uQNjvlgld/Acz3QNPioElsfpyPXXHNIjjuXK2Ljd0\n",
              "x/jBnBl9ss1FjIeAOID+bPB/HA+dqoSxBdYjtTjoTBV1M84L7ZGWyGGd0I8OFAWzYWawfEEp1T5v\n",
              "/GC6j2Y4/Shi7cCQNh/iQsvTtgl1adf9scIVKY+aa1HTpCkArc2k+bKxSKKXMDuGfTRo6QSOmxc8\n",
              "hqkqp2aKnEfAoK6A69PeiBcS7H9BYe89NPQmHtbdiNnJlJYB7wA44w8dLPAgmd97JwnVHKfJaxzm\n",
              "Ph1G5pMWpPfDbSSVQLeEM8yqTKSmZlvFLPpyJjCReILpbtRz6Nga1b5nhZGkIQKCvEqqyewpVzcN\n",
              "V5c9JjWkWWdxAoVZcLfAvFFteh9t1GQPCZNs+bgMsfz+Bc+6eC1iOZiNj71UZAgOGyltURP8Ed0m\n",
              "SXe0PVwKKozzJ2fg0kmGWocJjBChVzdzwR2C2MIHg7UEOg5BDTljxSxypwzPLoU1xEo3tEUfE0mp\n",
              "e8LVZv/0rlVBs2gCiirqWQPoxHBdTFrV+RJ91yl35rsTweZVWpFGmaeX5DKw0U2RUAph/1BwrHGf\n",
              "l+bwPcITRw3bqAX1EGxv84q4V63VE9TrGLLo3sRBRJZg62Ci6ce7VzAJLvRC3I4tnBM1DjdOVWaJ\n",
              "vhmg7t8J5vcsveAshyI00mxFknTOu2e51VkbJoDn88aqf/xIfhMnL8vvI3OFSIUpr/KzbJg3A53m\n",
              "hENdVLt4niIi38kJd3nBRs0E1yuxP7zEYos1/48oIwdRdSZUflTjqBg31nTfvlnNKdycIisAwLFk\n",
              "3HbfUsbanz+vIkoGSbi4f9QasPRMcpXQ26+3Df7ZtM9VEbzYDv4Y2hFOK78ndAjnh8sKMUuVC/bz\n",
              "MXQ2RrodaE5uav+rI/CYP7Z7CodbPwQ5/koeuIed3zHLVt5vfiGyRLdLipAW9XLLh7G/Wnvtvvrd\n",
              "g9JevjvxIsCmGWrz8t93EEHQwwGAKO+c2cTx2T/ouMCRkUvqz+8I+lPXqBcWBrWzlvdD5R8fnlCm\n",
              "Dkqndx84NvyEuYL1T7Q46MX3MDK9545JZdfy0rDnzkpPBUyfs8c26bdFBsyWoIiapId7IkSd8LJi\n",
              "LAmsVjTIKRncnDG6sYuW9njEmgrr4meAS79OGmO7Egk26aJLemk1wsATbD3bsymiS2Q/T0Lh/ZGd\n",
              "2LKPm0h5R1A+VTeuDZhq0Cdch+rBAM+0gw5L8vwDsBP564lAhN+rh85IXdehjql5JalQUtXRBb8Y\n",
              "eDVZxR0+dRmAfuPQtiUbW4H7tcPlL8/qMvFItdvihyWTshLgWq+FePf2tAbRxTGfOsFGA0Arc+WC\n",
              "53HARDV/cEd9PQ95dsGbY+CfdydZ1NgXe8Th5b5yglHV5FdwlIvoqo1qqGJt1SDIWgheADlKX9xi\n",
              "/Hue53G6qeA1o2iqNIdXiDQPmoGnX1MIWStfUeNn7eaajuLf06313Ot/sYKGBnSqUGhwqAvJR4s0\n",
              "Rhe8lvVrbBQL32Vd/U35F22+bMadXWAlvJHEFwnOsiLChI2p4dnRkEHkHbGY9VkBF/27ZU3+j+xi\n",
              "Gvt+m4CQysyYPg6IaxVRRPTulA08GNcAFPctWzrGM+TrQ+Je7IlRXv4XyaK7CNj7XzYXLJy1bItu\n",
              "6nr84vMPcZZ9Y8ziawlQOrj7wHhtBDUjSvrDt3G/hdHccY0QUqLUylfIvhLwVL+uzUkn4sSM17W2\n",
              "Vh4aVlW7uV0j1rbYQUrpIGwVKjZcmCrijP55dovX/Vznn2t0fMpZAPX7MfUo9eakuQgbXxGdKNo9\n",
              "yIM7ToDbHlP3m4ELGAreodqzkhlErJTHOLt8ymNyW7NET/5zPtjYBjiO8B9bhY8vmSbJpMJgXRCk\n",
              "2l9x5In+M/XYsGQn6PY6eEXD29KEdx6w8n/p7Pc25I5H2VWby0a2q3t8NExvcfr/XmOzSyxyPTdo\n",
              "NZqe2dq+G9qM1287/OvqDjDmOl+rmS9akWg1Tm8bV5+Kk0C5xlI63XsA+mnUydFgd/WJoyzJF7vk\n",
              "6cJQ2SS12NzlFgxP7qRUju/b4r1ruWRWPHta3223BdFlvqul5s/K/Xl4OgUopBG1tG/PqE7l8C8B\n",
              "C5HSujvY9CanzIJWXA8GFv6V66usS1xVZ4kG+DuPv34mvzOo1fwR/KR2MJV3hbRHLRZ1IhfXa9e1\n",
              "RPqBLfGJqOui2BSbfetJLmkB71LrwX84qZi2Vy1ixiJuutW5U1PQm/8Q3K6qVyP+fUoGtB3I124L\n",
              "nuaoRvq42Zpp8wAAAgdBnwtFETwQ/wAIKILa0ep52cRTmwA/kUnFFEG+ekM5AAIN6yofOqcAVZo6\n",
              "amv34cGlieKN9UHoEkpulMoBRx5GzTbUAD1/1YZ9YvLf32QEl6k0cr2wfdpz/4M5VFPdkDwbfnVB\n",
              "WiIUWrmIM/8Z0svWLJuh0LeIS1w3LHQCjgJRkYHazpPnD/h+DBGyCQ17QQKUojY5Hw7991ismf9U\n",
              "pwF99ne5poToUwMrGZ+wztgA5vMssY7xRlNb01kGAZqnD/EwF+K5FACf8AbMj1PM6Re5VDgUUT3a\n",
              "t2r/az1sThJHalkBmzrj9wlNqwHHT06vb8yLxhQBlN2kPERQ2PG+jXYGvtYugzP/BfPRei6g0+In\n",
              "uO1o17/RtQJRCE4eE80vmyeV3wCmE92cPmOzudWSAY99EEQnxmIpsuxsL57xkzQXkNSB7Jh4BF4U\n",
              "SoCn4L10ujokCFfg82MvZiTXGqSqiHVFsBjNcHgUiTbsmcfq0baCzAj4pbNd6s5uFawlYzqt6hga\n",
              "DADv55cSWxEYYLaglz0FC1ILXhDFSih9ETyDC+G1E4c8QLI2iADAZ9UzWdatBlIc/xgJW8hqZQrT\n",
              "asXcVIbs4QOhk6ueo0ErdWpWfeDYiDWfJdNuy4BJATxUZzvX9RLoQcT+91HmhJQsdO7+wQQA/ZCm\n",
              "DdAN1UB4b8GmkDUycTUoNEGis0AAAAGvAZ8qdEP/ABJWJuVL0AHGLUYsQOEFnZ6z9tZJ+h8lOpy3\n",
              "BMSlJln7Cwem7E4hmjWACNEw3ZTZqnaXrKCNsyAAx3G3b5hwWaX9P59w3+gtQ4Wvc69oFJm4XWoo\n",
              "3dKL2noGsoMcC4kYwExQau4JjE4c/LReyENQXM8dhrR91pbYN/tMGDL8nz933gwJKMgpxj3cz7PS\n",
              "ekjgEd7AvHPERVhbqKIuFE1btNfDV43o2djI7UmotY1PCUYmmepBY/heAas7hBuP9v4AOLnncokG\n",
              "3iwbClf0MpOKbuqangvNQtM5P7eTg2r87Z1tvYFn2b1qJaZqiY+lKXgZDobdVBFwZBR+7KQ+1mM1\n",
              "LrQteNTbZZuek04O8uzO5AmcXwsw9EfNjZ8sut+pSsJT/ToEx4AVLcu7XqnxsQxnLUGi7R05kPPl\n",
              "2KwfK0LZUKl1r4IzoSN43xw+vENmxf6FnAXGHWdVoYc7cI55vKwfqCqrdcXNeek7Ex8sthGfOKh1\n",
              "9nxZKTZoD5yn8wl6OFSehJspEpkGp3T7PdzoeKxybJfxsbZBHjz0PLZUX+l5IirsyrhbYIkX04AA\n",
              "AAHIAZ8sakP/ABJS0DHFT03snABsSmQ3DSRT1cHsA2/OlgYQlOeYOBE50LJfegPTJZWKOnRZdEZ8\n",
              "FeKABw5WzgNroKSYK1NQv3x+yMDWFrvWSvOCVc6UcY7HDmeG3PgvFuesCTIKVsXMq7xQuIN00YhA\n",
              "Yb5oR+yq9aeIFMKx8VNiOUNmzIjSQaQl2rbGeh5Hl3snZPwzY6i+lq+hhXFr6e2hUyk/lfmv3y+p\n",
              "ko2Ddjg1nMs3DP2lzAZBRWCeayLknpdLg/HvK4lo/grGPs0kjy85mpX07QvpvS0563xnsdEjgK8u\n",
              "cp03RUunt3zHDgV11NjSFWzAWgCBOWwUChSopcducyrbIqYdbtNuJPrtNn8IHB9R/MeNt/OdtXuQ\n",
              "BsXSQfrgj9Z2p9qhNYBbCHqBmb2zAJTIUXuqt7LyDAJ9T1YEmNV7GTEkXKcYVMS5sNVUY9mHZ+3k\n",
              "KSGhit9qHduKTpotP293Teeyz5XyF5iYAw9c69vgAD2CDuE4u6PYBIZlvxGHpGQi5QzX0dZyMIff\n",
              "SgDT3xFHl9xfPy7fxeLM7o5LSJmX2yVqupsu3EBFxh1ckCbljep/7wyJhgjqCBDq+JxpY0PI5IOj\n",
              "UtRBAAAONkGbMUmoQWiZTAgn//61KoANT99XEB+AUAcv/L3VKC+EfVSADraev2KhKf4kge/i0zzV\n",
              "DGc804dURAHujSR3KTYRaceU6U2m5kbfEaBShPmReJ+LONyQ65HQtRF5qGaGeUBVP9tf+xTSS6YL\n",
              "fonRvGfPtXckC+4UG4ht1KJfXUuDb/gLTvyGEV/hlZg1HZu2b3XgMyaC9Fl2lgGQ27hwXu9FeykW\n",
              "3th3v1vbJG4UbedWY6TwbvXL0v4jVnpMkoPwi/8zorqupbx+JBzqO68a+bEA3X9wxVEfmd2y44M/\n",
              "8UgKJV+MYfCsHAPL/OatD9yPYu+byC5oXXw2SaV3n9LseBMN017AodDsrMJxP0IPcYp/LUbELYds\n",
              "/3fmEtuoePdAhSZ2QqhPTdO852uV8ZyknMGBcZroCoWV8nP5/jugiBLpy4zKbyNkm4DEtqGR8wsB\n",
              "q/xh2jehjc30cPHnwSxYW5nHIcZ2R6iD6IEVpfofYRsXqBS6FUloDkefizegg97QdOHE8PuHILOz\n",
              "qokLR8Pd+igoYZIpMbm2qC4U2Ma3t7TO1gMk1DoUqPdyf9kV4kpfvfq6PYXMUC2LW55T4lmExovd\n",
              "1M87MRA6ULUCna4UXjA7XV2LmxOomloDLoQegdvguAvj6uZ/MqGPkwc+adLviWoAadul1W8hHq+q\n",
              "sBRJf27wqUrZuNWRJnnrDmFz1QilVBnjEc5iVAA+q3oohiq+FW7McHkaLshe8uWjFFuuS5bHWioC\n",
              "jbC7PK9AFsh9dwR2RHhSyER7tTe7QSvP+205M/nv4G9Hh8r7ZOn7sF62arGlkP/pM2n+3F1cEuNX\n",
              "P/4AtGDc2V8B6Hl3sSkW66ftQhs/EiSMSM6WwpJI21vXgJL1jvfc2fq6smdtcneoFBhTQl9c2Ccn\n",
              "tk2GNPZcmZ3IGCJ3HExhgq7ogFPH2TUqtFpssklBYyPEBeBvfb530+oYOVrxsraRo+WiwLQ1ZuvB\n",
              "RviQhiRQBJY6cTB/ir2vD/qId7p4F5H8D26IfDGebAawz4cYOVr0Qbe9yVwOJBr1o/uTkcHcihwb\n",
              "wAmLbvZ5WSdfRzDjBD3BsqaMannVEtNqcq3aO3V/KF4eRN5ryBFAt/gM9pVL/EClYs5o9WgJhR1V\n",
              "3NWKE0Q7YttdFJqqs3tUI9b87Qu/R1L12ZW+5xr8PmG4HavxN9ltAGTJaYUfSmYk9CI8RvWE9+4y\n",
              "Dm/DAY/bWxZJ6YJBVWtcCtg/oBHQTklsd1G2CwJQ6uNfsVnmfcoyHEpgYJKjPCjifFLHTFX9KWz/\n",
              "NSu5mb8KhSJA+w2GXZ3VKaxYjBvhfuW/RgBaKRq2lgPDIDGmfrnH87CKTQAKs+pAbe3kLarIBmSu\n",
              "TJr5irG+qIvURWwOoS7VxSW+LwlriZUzsbQ0H8KupM+m7N6BOBIzdh7MuIP9643S0TesfE4ZMk1N\n",
              "gAubzKSoLOcaJ9cTpSzCzbEuHhRvJDAbP4hKdUvo4jeEs3j8labyCDVxC7Yk6NBaFMhVtquHdxaM\n",
              "8iZBQ3oVQyoHlRF3JHLWwgX6+ERhTiBKWjYasTblfTJn74op8TBEWjieBWd6dnxGXPNEHo6bwW7B\n",
              "ySU+scRlzEbKQpZcsmR7EwlQqSSBj8/twM6niUAFkMEEAuK5HMfWJMBqhRlZaATChZiBWGH72igf\n",
              "rTG7xZMf4wQuRnO+7cO3v+FVCXd8P4oqFHB3cGIAB3sdImVIgbROr/VtDPFW2OpNG0nK5prOgA55\n",
              "W5E8kf5RW3Mg/aRZ8+R4zc9OAher1CR/2kKAgFzkxp5y9AXZT48N7JJhoFU+0HBQwCHgTFrkse3C\n",
              "FkrfFgLnTYZ8P+sPyrnLnv2rYAAwSP9LqeHerZ2RtBBhke5WVcZeaSIeN7JgwDjjWjhEZCxRStUr\n",
              "sp6vKfUM5YxY6Xw+sfqn/Wn8jsDaT8LAAnjT2dkClzyhZjuhamjOIF9RM/KZ6WBIDHOy/2g8fN/D\n",
              "tjF8yPZtFoHAWRdJX/1EEeM0ZUO4myFpf2p8Xp6WjV/HFxuvjhlfuvD6Vr+aK9frtIXHlxw75Ag4\n",
              "QtQu+aClh8cydo7GjcqsqGXcBBDhZMz0fhZE/Vl+ogmFHkulkYzT3SxfYRQSZ0cVKTbz1eUWO45/\n",
              "kChnqd6yzpmvcu4fuIW7Iq6EL4GG4tpKr79CU2Vf+ZI1VHtvcQwhQXR+Vyr9IIUgUVC9k/bIHnIl\n",
              "abqNZQGt29F2b0i2sMx5Z8KmG6vGnO2g96qdzp0CqskZ3VS5D7L3xTNSJoUuVE66xTLf/azwtemj\n",
              "QslFyQYaMz3JZ86CisdLHQuG3tPojbUz8n63myXLd0w7rPONMFqbKJkHOsqnwF3rd1RnM3on+sgc\n",
              "fy50eAJyYdAS420qEIq0OJrAbSXt+FeL62MtAGw+AuhTWEj9nhDSUlNDH85KHv4lnBJn1CSgwdtM\n",
              "/hDGJODOyCGSjanOHJ3iUerEj15enwGMHwe+pVV3Q2o9pI+fApTRyKZBVHP/cjT7jHHNxdrIaqM4\n",
              "/iqYJSB2fjlrMgk3/q1CauvtnU6C7/m4IOQ1prMowo3pVQWW9DKH/zcBtXFxTBIpzwwE4wYCKKfl\n",
              "98KGSWj6W4l2i9TSBl4eVGeCyuZMq58JBuV22x7RUSWcV1Y1xMlpo/Vjr1sWvGK/cboS3SmA995U\n",
              "zK+1jkiYZiQgSrE1wolQWAT693oShjLa6eUQlw1zQZy+QFywC9M99Qjv6qTL0DXSQIMV6Rl96kLi\n",
              "Cniz3sVryGafQSiv5F0E2Jiu1vENamfH5DqiKVGPvST9VVFPRkh1OlUsVhUcMGdR0OEazq/PBmcV\n",
              "LQxhkDif5A7wR+5TFX8SWFPt/FMs6EUcsWvmUPcqL8ELq2Z+nisJgGkj4lNeWIF7l/gkx3p/x/fd\n",
              "PHqyG8cLtk1XhBakTx4IO7NlqkSY7PCU5OKT/x1/ph5qpw2JdSfEhigxm/85k4mOdlVrAYPVvWPw\n",
              "RWzrGLQSs3G3Hg5oOkcLT6QMSVVYSw2g4nA4zu3V/87Db256WqmUZUnupP8SFRKUzC6CI4p1PM5A\n",
              "kUelZeIilH2NRUkHRWfFr321Y5lhzxYhwIWg7t8II0NKPK+Otq+B21F/wlAEVWIFLUScPXksVqqw\n",
              "qkkCAP0/wZp582sp6pG25u/skYt8rrvfne3MI7CvFjieGwIrNNoKZI/nnBqnfYIvr9J4UKKEVE2p\n",
              "x6ic3MmGAh5kzBLy0tj8beCHMLPyRQgrFDDbGAwIWWwl06762wjFuTKJF7ZfLsSnQYZKgRVLq1zJ\n",
              "8WLfSmFGRWHt/FskNspk3195vE/LHAY+1xk3ccloUK2veTUiOd7aEFxbTm5H2zzVt2FYsqfJ8EOL\n",
              "IpX5QxXd4Or8a9jy/pzye219YZTtZNFbufBzm7zkQuFXfUYoTMqK3Fvn+kBGxLJhS2BDx6ZH1fZn\n",
              "OwRkbLaDDIvxoNvGYa50Wy5kvYNzWTjMEGZtO7WuMfqY7F6bUAwBLAUtK2qtwOdiUGGb4m/9a3te\n",
              "kuslCyLs0Wckynsh5imgLJ9MLYmP9CDKkcjnHGp3us6z9+yjg4ceZtjt9hqqG/0iQk7ob6eb0wVX\n",
              "gx0Mh5FeGIrg3HiCkoeQyhanjiOX6nTQlVqqt560m3U/DEE9yKbXAUEWMfSAFimsaBW1pIDIhtS6\n",
              "DmLR9pCy8TZjpzqNEyfs4QNXpvflXLtW77trydh50KuPFh/1ygaNB6DrP3fo9ocn8xdYsp4lIQDr\n",
              "Jez+k1f/6oqezXFmcYn1xOWHGAOJu4lVsIGgAQKM1WS7GMqudRonTozQPWtw3ysNCVvOT0e8j7cX\n",
              "oJdmqNFKMwZgT/xR9CVp9FJ9zECF0Boq9oU9o3gB+fCVloVAOT+wDkG/Ewz2/G6D67cskw07fLYP\n",
              "BdUnrCu7PlLYmalDgjHXeLqfimFQkV8R8L9b3AkOMlYxygphnLd9Ui1dvPlULyrn/Eh+Ahp4QkOv\n",
              "eCBR0tyuRDLCqhV85aJ4zx4113n+c0WUn6Wz6aZOWjG4fvrOuqCyDCIWtvPg9sjfLKN1bFtwFJfi\n",
              "rrAapCcvlmJ97XLWuTjzjEW0aVui8ZENMMUCNc883djMcB9jd8qsonf8QYcpK42fjHE9UE5zZ84i\n",
              "lsnFXSlYKvc1sdpFygUU7S22MfrT8kcYLxUrzthr/MrMMqjLRTPCDHEyg+hpPAezDGpsmaEOw0cw\n",
              "rNLUiPfbRK3izgtRaS5ytp7xeSLusHZlRVsN40S9SvRkE25LzPPapRw3ZAfj6HHFOP3JTrSbTs40\n",
              "BBwyioJfTVQR1yx5BJB3+KD1Pr0hWrzJz69M1BUf+JpvLxWen4P7oOlI2dlIKicB04TEl1kX5u/q\n",
              "alExoy4VptRHMsg3e8AV+8V0inLY2ztmhVgQ/0EZSwZscTrkMDkNQhTz0248lEqupDKsZC15echS\n",
              "DPez+H0LXFwz03iWDI1pemmiJZcPLhYQoDXWNr3Q8kURgFvbFfBleVw3JxRVBIpebXfbM8e0dO5T\n",
              "I4ZU93Bq343/J4jw/JoyVLqnxszBZUJ82H3AaPQA4AEaWt1ZFPXgwv6ZOV4kgIetxXAZGyPMwCMx\n",
              "vx6y56VVdFpMxi8RDEBJkTxBUTv6np0hDR+bagGLHXQwERP4nhAet9BDs9tJyRSzPpuPHhSrMR5k\n",
              "mUz84w9arrEexBj6ZtzPFAFvEL7pLSstsBZ+AJ7Def3E9DcQ3+/KtNU/Pj2Ox4xs5JR31kFlSh8p\n",
              "eC788t2WF2o4y2CSJ5C0KjmH9vAsTqeOls7vR6Bloc48Lx2K9QRV8mEaIA1IAD82SVTL4Krxefwo\n",
              "rO3L4trMAXWkk/nsICekBvJeW9t7I65V2/T9IbvNSdRa9KDx1AWyj2rUPECgBoDv+nASSJZpAAAB\n",
              "00GfT0URLBD/ABBSp/Ysh/gM358DWBSiNk2Qkrv9w91bUNSccYDeOMCu1BRxYfp9kSrs7zxUVvpB\n",
              "h9CvunS7cem2TOofWuFWgVxxd3kieUl4hSPC8lWJ2R5DxiVBioEokGHNy/deFos+zShCD1zr6IVK\n",
              "5nIg9CDBUjLMVH6BpSYymQUx/iZ/Y0rujmj9bgc55O1rZ8CUXElhahbxtcjduwKtu02upvZH0uFQ\n",
              "zkcloID4kWEVTSSvem0y8k6MrGqY9P4laCSwZz74A4T2Yv2BSBAO628Syq6zLaKCH5MONTAL5Le3\n",
              "DXoRto+i311xQ93eLvbzATnddh3k2G3y34GZPqYILw7VPN4yKUcSlLSaTCWiXcc3rQbNj7tos1WD\n",
              "7Zi9eKds20ppEq1WeELCYuCHtAQKPV5XwNdcPWnrKwLXvDzJDzzwlECws90mr7/YZPN/IosQcR0L\n",
              "LghkghH2t2CXZuKjfvWk7cCF/4b06UVV5JWzvqdFF7FcmOjYgYLbrgVjxif4hqOeU+a58vBLMYEv\n",
              "Dg13L2LZd7tjEHDvuV+sTET1kidr/hEF90M+8Ahtb/tENZudd2/X0ey+9mapEDOG27EyyTufewsq\n",
              "yodHov0h8sUIgvEhAAABQAGfbnRD/wAksZk+zz23kzhY/9dbd3JID0GLF2KRg1TSIqYkDi7rrxVR\n",
              "S4ImZbttqV6z9yQAqBCakK/JbIhwMCYSciy7qiRzuPgyxmkD9cLRvsTArLT9obaMfUWTka+Wowm5\n",
              "EWzqjxBQnEcv9mBFKk3BTRL74dcvjWEOw04fDtMtU54noIjI/zXlwQKSWhUEbl9fFzLdj+TEPoqy\n",
              "/u3Oku0fi9PyG9GNUJeeVarfxf1vrbMCzuizmM50imzYS1KEhVWt6mHdvhUztIbP3QupMYT0G0VS\n",
              "X5VPxN/44oMTGhdKQcqVPYWyL77oTf4vgTt36YVvkSwAg+wSOeJ5LIgLoCTUAn04WGPXmF9FSUEy\n",
              "NyZdU63Z7xJ3nE8JhEMaa62FKiFPDVLDGlaE0Fga1ZCU0GffRa/5yC0m+TovzZUWw+jAAAAA8gGf\n",
              "cGpD/wAkqUpqIxutBk0WJx3FR4GHbOcXB9FlJmKzJtuWenoRT9L3t6Rb7m4qQAnWyniHkgsR97rc\n",
              "/JP1A/YpTcRbiSRCVJmhtZZ5g5AYIXiif9YoDCwl4Q1Xbu2TB/03oGeFdZhq49cFAO3N/n205g7X\n",
              "8oZYRBnPaIgkXcRwYx5gFlRjPj/07hzjAwMmc6nWw5fRBCDvd27PQ1bd1n2ddPSLBp1zA60V/05G\n",
              "hU5ojyWnkDQWEbp3CytbApoD6uVrAuyAhfAiVKSGwy1r9r4PmEGgtc2/kELqKFPI+SK4FT7xQBWy\n",
              "cgLIJ54bj4L2+mjAAAAG8UGbc0moQWyZTBRME//+tSqADUT/dM69vYAVnnJiqytX8Ui/P4OrYJBr\n",
              "puEI+q0IYLLyUyowo5UuoYrYZ976ruwIwkdFV79bKTdDA/+rZxXE1ZFg6FAdqUmTBwW2XLJd2NxY\n",
              "dcHpXAfRfXP9yIWF4QG8c5Iv9HpcFujj27v3ntU/HEVcC+HC66mUeZRr3oNHGcdReGmGmZWjaSxL\n",
              "aeJthCsUJHXZtFjV8Pu8CqUBmrLerut+9WxTym3Zfg4cQGqOgy0PS6Z9JXL1e6Si9anAoJ5eEtGy\n",
              "5hJHNzMrnc7t65UC67bz22jWNFoc5Si2ww5aiCum5bU8F2cCsvbPVgbDChz3J5evYWtRyR6L8ZM/\n",
              "fTOaSoZPuiC3RjZcb/X4hS9L0YMIoj4h6Sg7BJWSw3tC3B53ztu0HipJaWxLjLyESqVxUUv4wihM\n",
              "u1f0owUh5drH8k5AlTR3RMnCUir/fs1Ak+ASLNfDhupMEzY170FpxAM2I/MuaNJE061dAuCXVnPT\n",
              "UEve0zbGn5sTaCGq++jk1KmFwKTmkleddPAhILGsD6E86R89twDY9NB7tIAOeBXyZ/mpNbg6Dx4i\n",
              "WycgHT0yHSSTo1BsPSNxgqPIFs78R6B+EyyYb30dT0Xz6gh8uuUI4FtQfMGhov+ulP39MFiTPkgF\n",
              "Bb2lh9Esrni1oNsOV7lMwm+scWCJruEmv5X3T8NSToHhUgHa5Bql2VjGL/7eHCy2AHvV9kGXhtnT\n",
              "gMzglragQZa4aei9FrsF8RnOGJTEBX6ApqfqY65kWWARnXVgkqwsY0p7BC5Iz+eXK5SBXfWAw5Rc\n",
              "XWz03XnWqkIyA+EMIuvHvSn3ft/nvxIaXcDgi+rmJu1qWKm0BjJHQjpN8tI6VXgmDKIXsZphX+V2\n",
              "6cKner9j2jcJgOforYQjtBjRT8wdCaYWHAFke/craxBMbAOTUnhoHYLMe2o7rV/ZrsS5Vg81oTow\n",
              "tNMo9WjNv/xxgh0OEkarQQp4MpEHkhqyDC111l/Yk7R25baxUernDMYW1xKTXNge6jjC4bU8ZULC\n",
              "X0FR3sqivFHYSh6pJ8XlYBQHNKmr5tkbqKmH4FrUp55FtCsXbCLWQuYMWfO/tGS/wM2ZJtc+lATk\n",
              "/yx8sy/giPs/0J8aI84QFU/gmBZ4UKbl4MYUnA+PfrOI1fVBlDafA3uf/bo07zPNvjIYpyYdb2tO\n",
              "OerMfzdmDvPMJNXOLUeEWpmeq6L16a8EhCdIddHsAGlLLF0JS8uWAWvN3st36dhcokO9HecUD1GW\n",
              "ReraNOAoncdcCsQaDet5mdtYb/z6glO3d6MGxveDDqqGWtSLkKiy2AqBakylRzNVtTeM3217djnT\n",
              "HAWoVQAXy0HHsYvtW0gXZou72QnumzB4/FWwzy1FJVufrUZRLQ66PDRASH6TQiY29x4OcJZR4Zyv\n",
              "fWK4mQiC831fCa1Zj2js+bTf9uUclgznLYgrP8oMJDkbLfZUhmppwWeP/fTVoq8ISf4ReWQIMeJ/\n",
              "C7myDzi5zN0AxEZO6kbeINTtDua7zPv6lRQj+d5RLpWpW4RlJ94mhXZ1jdq8I9FimQVWBkIhHcXH\n",
              "eut0fvYnNMBO87ibFXWHcB8ZpzGWLctb6378FSMgGFn1Dwn8xsL4y3pcIOOT2MzV6LKinULQsp8M\n",
              "guGDOm32qRs2iC7lHMl1Aq2uCXf9nAoHSxI/IfZDd8nMqXbn7cI5sI/NPcCuD+Lt+Y2wXTd7BE6h\n",
              "uMS//IOJ0PJlIg3hF19AwyQGMHZI3efuPfqkFMg4s0nG0XCU+BblRo9pehCbW+5WgdPPDjm1ZYrh\n",
              "irfpvGUP7LpN5gz6rxrfAfNEEt/XBl8N4z572v4ZsbP6GtunfFnun+P4995oaV9UzGUwPQCjL8u1\n",
              "4ZxIaDe9T3lz+m05q0A47QHcB9MaG9/y/YQgtKi4aHMnaDvR52O3IXAKoxUtR0X0/RyWx7rywf6U\n",
              "bOzlexKDps7AWVvDxy1UtmdhLVjtDWhurSctIHhLK5jfLUyo1duoJ1M1K19+jV6ELsKZo+io4Fyr\n",
              "BEqQ9TSDYaR182dLfl6oxdDlte9iqe0fPNUao8MKXmEk/EVWMnkEeRBxyYk5Eio/aRVO6wH3kQbY\n",
              "qW/mWjCuIU2yjBRmxBPCxl+vHjrwQnB67/c7PJgoTr0Bk//ePkX/PFzJBjfjoIUEADD26tUh6Ysq\n",
              "m802bpQnn3cARnLNVyzPjyQtic8EnC/AF+Pj2xXrDCSyZqSJnRD7/+CmQYiJiMkM6CWwEc/eZbsV\n",
              "hdh/vCe5KyOIZDZSydYLxpajrMOV+koU0MSroapeEgJw65n9zlRM0WsJkY4p0zbt+izB/fdzEM1D\n",
              "eQ2V/3y565ZPIjxW/9yOgdhf90Ul4k/pr4EAAADCAZ+SakP/ACSfHo50UCAOkYQ2CNzVnfX/HTs8\n",
              "JCMqJRVcVhReUbAeFvSFfHLwLWsuFEAhdZYfk/PI9JUVt0x++8KYASvijkdt9q16Ycw219sJc5z8\n",
              "U/Xy8W/aRdUYoW+Zz1tQ+YRAkzpNPlGBsjXrfqCbL0Ozxt4SWA7xbWGc3XOY9MjOCjwFJNyCWE1h\n",
              "gXxSxpKmlIxWfkx92M0BiygjRKLBMhlwzA0wF81EYDhlvfY0fVn7U9X4soE0zEjC7CzX4qAAAAYj\n",
              "QZuWSeEKUmUwIJ///rUqgAZTaGgCLbwhHDPf3R1KFDQbBlRfeVrq2boXzX7+MB/o/7juRp02C7he\n",
              "pAHEACJcGwY2Qmf8iZKg7J+X4elQ7WrzzRmei78UALpeB5yYS8UhiKWWea/qrIQ43R4MracShTOp\n",
              "CenXWUILCN0+8a9UFtrNmYiQjBeLqlfAj0TV2k0y4uvrvyfiSagUpoFAWx+TGjjYAIiVyBI7Gv2V\n",
              "3OlqfOjcdzyLjPl+esAL6Lv2/7XgVoKtWL8VxkX59AjiZboCU97p49xG6D96LWLMwmBTmqftTwBm\n",
              "7Reb/aVDBq/UGAMqUMaTwoEJzVP2q8m2WyQhO3cq7ZPhgAxkssfDl7ZTbyOcYWp7ADMpWW046/Gy\n",
              "M4un+qnqct09dc3++wE5l98R3oOGuse3YepDT+BHNjpDqqQovavF0Iji7j4LfN+zL3yu9MnqAoY7\n",
              "CEr6yRt4s9Ca54FlRPsVCNFRPPbR401RgcNtjXRyxi3x5QRejFU4pd8ZpLytB8Hzb64utA0LM9Ca\n",
              "+WoUetLp+2FYCu9r3gzhnsH/MgpWmH0RY3SrmrhZjgjrLkKvT+t0NPhT9p0ZMlRk7Czr9YMdTEar\n",
              "tQYSyiipDppJO4v4AP2kemzrnOPpAwl0AQaMpE7uDDMfL8FExdmZWefx5nae7PWOUkFQWagYiSfQ\n",
              "bH7l9qV7RcBFGs7Kd6cGhXHRsBJqOHKyNESkqstk1b3OokhiCyaWIX8QMQO0RWsOU5x0oC3asKtR\n",
              "jhhdaKZavBzj2r4LMRID4gxgZ1X4rVAHU8d31eWEeEd0FtuZvv9xSJ9Ibyp1hQeV7nsWEwhlHS7m\n",
              "OUZBvpph9Z7sh+bVjYh7pEY+OtMpvyxPOnr2Kw5CvnZHeJ/FcEwoAd/Xj5hltXSJdZcVlO+oHxFX\n",
              "Evb/d8Haz2b7EOV55yCfcVPUXahL8nKh1kAzhI/jR6/WdNuLJDYJAimcJW8kIE1h69lUmf3o7hW7\n",
              "VSUXkKglsJRPnBE5dye85S3SXgsP64IZbEki4WXCSsrOiQHn2qR7tLG/q+MHzlWne/IGuNG5zeEh\n",
              "kGEtVuonxj/TKFu3HrDoyLEN9BTEQVHJwkm7qP990yJ3dAgsVpPrHGHJn+iazZP4XcsbK/cBEhKe\n",
              "ffLzcLQHDukBxx8zR2yZfo6LF6FfOv8KHwSdpp6Yd6b4jLWeGgiqhIUS9KAj++Twt92M9cXvO5jv\n",
              "QJ2FNVRFBclzDuheLT5RbIDqImRTODgEpLFnBUE+9VmPVkhc0ya6hByFSsNSUVmf/LQHs1QjJXRz\n",
              "Bn3MiM1E5I5WCKHM6unuclv0T5FNVhTt+FkDCaWPB/OANbTbmE8mSPJHV7gJ8X5iv7R+Q+X7YtCy\n",
              "EHNAmsH7YGm7CMHQDU5SxwT6+EuVSOUvDxg2sy2cB9+4dk3+X7yp6W/CVdVPF+V+v41I+URE9SnE\n",
              "34JpONUACkfLb29+OAZ2itT2ZBnKdUpeqA1v3mHsae+jV6nte6xrsjgeoq+fXQc6teR9DAW+pemr\n",
              "UzgLjQNMC0DCdY5AOvhNl6nn+OXZDbTLBRmkBxCgBQX9uD1jnGWUG034iJe9d3n1MtVw/nxbLP+q\n",
              "GKCKRo3+nO6/5AmiQjmrnZ7RlBgSXSQaTehp01XXFuPDYse6N3KwcNmuzv7cCcl5prcqE28wxspY\n",
              "ET3A1nBVx+orFcNJF2LeQw2d4XlaZvzTLRaRof1K8zVzlbXKgaZPuf06L1NfVvyYaQkk27QtPZiK\n",
              "/XBwlgni2uRoV02urv5OXof0JeU3cM/8ptTlQnU/bKdWKMuEzzpO9RNFCg2g3Xi6/f/Oh17RVoXb\n",
              "ug/o46tRrD1J29yioiWdCqg1oyVnqJ81db27Ake/w34A/jI13FOM0MCh3QO2UELOhiTmQuc9iB2P\n",
              "LxUOmnoe+1OYX+ZUhvtXVZ+juLCQLk2LPyxrFQaI2++2Yk7YYrMsuNX97YZfuPaRGwRBh4UVTo5S\n",
              "pAG+tm/NyKDPTa9GPZRGkl5t0JA4RDPkFIkpDhyvkVXuSQ2Fjyfap33XogKz4Ji/3gTzUwaH1N46\n",
              "V7OSN0WPGcUN+mAQ/bpmGQ6L3k+8WHbHJgKKMfuDctoAAAA3QZ+0RTRMEP8AD96pqLUypIUyGXnO\n",
              "iiEYFZfmBwAOQbXM+ORUXsRyQ2SnmS7xlN6WlpMHYSJXTwAAABwBn9VqQ/8ACCwbc7wilh3fdULA\n",
              "me0l+vy9laZUAAACnUGb2EmoQWiZTBTwT//+tSqABUzIs9ANPGh7DWw3TS2WoeV5JuRiiVYLwgE+\n",
              "DqzGxWu2VYL9ySEFBdiZ7PmM/QqlPISuucRDA5qiO508ubZ0WGQl0goBYN8ldjOsfDSIPuBdyyqo\n",
              "Yx0pbG9BiN4J34N4LE9yJ/KMeBCAVBzD1tBXxdLVZsJKv3Gk3ZvdWrBCKD71yA1PfBow4g7f2vuU\n",
              "nn8+ONRQsr+7ZUGF8ZZVWl/cYz4RazmB20Y/fHNHCgJfesOcZ472wjXiXLZY19V7y42v8ymQH5VV\n",
              "osh5MrHCKnFI0SZGF6fZJ5ih3UEWostXPviSunpVyTKXQnpU9avOZ4Oz4L0dLORaB9QRze+dNK8W\n",
              "mhnAStlzZKjAv7oBssVJrUBy2GT9glamYrKF0G1I/pOyvf+aYYSABRiW22QrWEu/V42IpCGOGqum\n",
              "7UERFLrQy1jB3GjsBsqi4qtMTR/Ei4nzw8Kz8NnLJpnBLMcXGE4/niGRhB6KNkRVmtP+ACYCH05z\n",
              "46QYx6sgshJmsVK3H06mmxrjbUUJMGVFlDwV6Vp1XYJ5F+Ef5QpdMabIIQrfEteHqWb5Sx08alDl\n",
              "wsc08s2rvwHG9R74Lon6CEihbwzTfFaOc5uU/QJH8ysDrfDIiX0ybUznnvHMbaBdvF032QU/+ZUk\n",
              "I8NWY1u1lWvOzyD7/CZ4nuV2cggFBHw2jMnii95+3V74knPfxusiAtru/MN3GeLQMt94r1x5uehE\n",
              "gskzqp6+tkpFEi6ptWb3KpKEa+6o10NoG/mVNehXeDhXAMCctjmu7idT0Int/SmSbwrw6VjNbA1H\n",
              "ZCVLqNQ9ughjwWoqWN4xGJnRjRO5RZKnTAWYZRpopjVxBGuerL1MA1yB5dpXJ/cUPJMtbFjozQAA\n",
              "ADUBn/dqQ/8AI7K0G1srgTYE5ArJBCgiUkRYHujMkQPrJToeWmCRLgare7J1NMYlA+8xi3TRzwAA\n",
              "BU9Bm/tJ4QpSZTAgn//+tSqABXC1duAgqx9vC4v1qJ3Rf4aLN/f+2wXrqVUALEbntH5oeGSITHYr\n",
              "bqKruSVzppK5pIR8JEY0g5KQtRSVavTDAmUTQ1ydBl6SMefJiMJlhx88qVUWbwQ3ZxBSze4+5hUc\n",
              "I09HWlqGzJbqhLX0C85/d2dKJEEJrdUBbb/YhM1QD+afMFHwIhcnqk7XqrDhLZyYQJxTXb8TfY+/\n",
              "RAVgtk1O7eyRmmMvR1eurtxpmV3robgRzU/9de2z7T/ZJ0O0a876tBdTv8mCJzW591hFw1vxq2Qm\n",
              "PqSnb8Lkseczdl8/6aJGmujU8gDBHKH20yoU5qyjxSDPJeikCaNdobSsZt+Zl+FkRMIRKDzmOoHV\n",
              "mv5khK0ZUDHzLT+dNpvwHItaLkxyDaBVISbUyT/pZ9sFPER/pctBO9vfzRhzvuBs3yUpnV3KJZja\n",
              "LGCl3KvV1XEFZjvRmjwHKBgP8zNn3GhtWGHURbjaFNxTdIKrUQEIo50HjyXBZEBh/qhl0y/aumP5\n",
              "WygWJSnQZYRDJlzqp1Iga2DUXgBPta25kct31SOh0TdeBaSH+9uPsqE0TFi8rpo953Sodf+njsoF\n",
              "86jyVi50oQOOoRE7wa7d9sL/WN63UZiQeFpIOgrSipCadx1YRObaCM0tpDvwGusswmuG0EezruO3\n",
              "mISUOM6PZANpqW1JHBYc8JtUDJFQm/WcnzV4Q7zB5si8Yk5mu97BlHotwgEwpm5GC0TqKOKYR4i5\n",
              "onqua6OST9MwcWgYSF4tlhCKTBOVuob7iFwbBCXTaadvrWg6GyPv2F+hDFKkm4zOsQAfJmnEUq++\n",
              "AjOYPb14KbSXGQTDjylQxBXSEnr1dXykki0HRcPLGbKv+/GkSEUojjT7K1bvxauv7jFftqYsWPli\n",
              "DH7N086/g8C/RSikYmgvlPBdtptpLQlugLmAhkzR1YwSpIWKGLlUF7PsMao9cPKzUFVddOOHdkz5\n",
              "NVqDoLMq7+S4VE8EjMbwIPWxq3cNmwkqyyRHWSpZk2dt6LaLKH0WQBMg0uyzEZDU0AC8U4ziW8kb\n",
              "bCA0/abE/4xR/zeEfesw2mKsToIbLSsJx0ZvJ86MXRM3wQvBcClQchqbAJ93x5Q37uvgo/SYIfhH\n",
              "djPAjBS5LpBnKPu/UGmgvhy6HprY5Z9+cnUN1xJ1JitmBncOk9+NBvPmk2ONgmd+Gz62CwoUYiZB\n",
              "FfD1rsm6VrMYLGPohqi4ziZ66Q3f0GwKhlzX6Jy4a+qjAe97lg8pEJLMYOnaHsim4G0TjVnYGByu\n",
              "zRPT0fAvgkhDriejgUEU3i55sL/t0xntt01pAZaR7qhv1OPmeKwfNtvlwJjF8cnEKxDYIjU4UEbY\n",
              "klsStNwB6xgcAp/kMNuLb74smuOu3nQe/bYfCB0MxrcynqE1ffbvQ2xDmEQgbrjdG0LFTGbrjof0\n",
              "71TS02p+L0fOW9382+glmssQPQsl3o9IY8pEGE0VcNiauKUrWU17Nth8Sx4k3/4Mk8sEYZAevSyC\n",
              "baG3oz5mO0POMliA4DjOKLJczTBFEkTBAZq0B7KidzWRljvzfF1ckAWfhCnfTqPV/PoGvyhlgPzf\n",
              "D2mR1Rhiw88UomwMMRuyoo3Dg+PSfKF0b/ljRa9LHeDMJQHgJBFeJsfx4/Mk3vjzmj97hvPa98I0\n",
              "q+goiFZd1T4apuZku/6RUmhh/NzyfG1YGfOH7mQjXzm7vxSUdI4B2AAdEJ2IuehQAUHOtXlXDXWN\n",
              "dlBWxBdQspBEmdeMjl2Ex/+TD2WWVCp8pmHiJzb4sDOhhIueGIXMI06hRPWDBoXLYmAAAAA6QZ4Z\n",
              "RTRMEP8AD95ZutAfLYx0fJ5qyqsJcJ+mVaTxbGgMKouOIdji9pHANw8VMA2RSbjAMYHZapPyRQAA\n",
              "ABsBnjpqQ/8ADidkNCNrVzh/CN6VxgW4eeH4YsAAAAPJQZo+SahBaJlMCCf//rUqgAVMyMHIBSHH\n",
              "ZrVvkbklbd+vVVIKpxtyNQlIxgCJyE0Vf055rK/O/FGkD9Ag/3LuiWxcBrRJ9+VUaNaMof4ge5Ui\n",
              "oSYSrMh9JlqP5MRZq7sBQUKDWQ7uVpUt56YhQhdZTRR0Q7J5XLP09X8DB8s0tS8ezpt70tAXqpaJ\n",
              "KC1Kd2FxGjMKmcvXixXXX7TteBAlFtwga+W2blYSsTchVJDJiz8acYuOKMDRCZ/C6mtXbe8VzOCr\n",
              "mPxO91YTBAoOmeUXmJ5YLutfyiCNdl00m3/y0uOrPqEKQalQBr9nJRk2LnYvGntocvV9fPY4hQRX\n",
              "6ORD1k7RrEJDBHhcDGs6nNX+cEXC/suAQn6aNeuTy1TruxLsj84OQLswWvZq5tqvkjIacPFQo3yz\n",
              "j3lVWbJ1+bTOm/DvXOnVKgmxlrLlowE7KP25rKwxSjOgQ+SqVRJd82TXquLKNrkJHRJvaViNhmZ8\n",
              "oVNDyRAUWwolHaffbh9C++ZH2bQWbFjqF/rlAogXvGgT/RbSzojSE/YY2YX/pjVqa098wjkGqr3c\n",
              "1oyUnuYVmxB42cAvVbfPl1JI2seKd01wKrTqCy8s7ERajXJl9LHQqCcdbu4HVhmShH/pKO5VohVy\n",
              "HUfGGUJBIRLYjVBFSC/2pGjVgnYwk9FBf6Y9XWYMIX4UD/hBAe0K74xEnlR/ooVs2nV7VvQlTTUu\n",
              "EAQOxCOLhCVLW2Yoxbf0CxCW3GAxSLJFW1PFMyjYc4WjM55LvuNvcda8hDlz53tUI4R1qgm5w8e9\n",
              "0eBoxRXsyCxS9pDopSWe5v5VMzF3wuilttcGEF0DpnmN0HdfsdltrFLvXxiF9M0ODmkuAKDQFfi4\n",
              "Vsv7PvaCaxv2+9RnlGIsjIOHPFwvgo+5sFwe0XxgTlmBCPJ6ijoSlSJQUeOSVXHwocEP8+U6erWS\n",
              "7zkmM/xqoS4CZ5A7qQtP8R5TCwRn911E3jXnDzHMZLjXab74Yg5wZPDX1SmRcY1nVVjAqutKTsp5\n",
              "Q4Sr+VcqFqjZ/Ap5Zc17OJinWlC43rI0KL/4ma2VbUhyQKSkh4DB8S7CiMgbtBtVPuq7Cymni0Yh\n",
              "1RORzpQaIaorTk0nvIheQ7sa2HPBVkrVZrc2a5K1Mr4xDv/KgPwGfXYEUoVZR0LbisNOkEIknbZK\n",
              "BKHcTqLbJp2mwcs9fDglk/SNgLpjbUsDuQxt95E4fYQUMPdFNeQKpYsq+UBL8Er/LOaNYIFpP2wN\n",
              "JTS8LXRqwDuYuzgbZ2Qyt1TcJKVcC1lj0gR9obDOtPB7AAAAPUGeXEURLBD/AA/eqajLAClZ7hk0\n",
              "OsflWx1co78WgIlD/p2gQIL/N7gnkX8GXtjD4kWJjqM3upZEa5DMc1cAAAAgAZ59akP/AA4nZQ/q\n",
              "0946kHWtn63FViQi3wQqWEwnC7gAAAHvQZpgSahBbJlMFEwT//61KoAFcLV24BXS3qUzOV7yUNBr\n",
              "/Pe2H2+5HyPNM47FinLGPtMrp9z2lqxzAndQ8/j8ElbJokyXuD9z24COgzxdvj5L3CBkp+w/dBk8\n",
              "LcbLgYpZAGNjXlpeZDLi7IaIMHRx3Co/vv3x7KHh4PRLyV5U9SoaSPFDjJbzPrIxp1g/nuuht0oF\n",
              "KvJ2xWoizCX+WDvQIOvMOkgAZaud6QPOpJVgvX2r2Y6qc61DWaiZ2ydDkhGVMsKNRW7B1Un02j1X\n",
              "y1x8Sr1nKhpXQofQ7Cb8PgYr8mYpb4EmpwAyov06FBc6G9eaFpjFtUC0jNMnYkFaDZTF5ZBxRprk\n",
              "vi8YqWkfTnop0Vlv3jfG6JFgJzdh7eU/IU15Ux+aBm9Xiz0OJALHqKtGL/SvvKRJIkvHpwsQ93r2\n",
              "12JEt4dRnTB+TY9U66NyEycVoGLBH2whDgyN27nR6sUoCifTUK6JCCZ1khN7+bSCTpirPRUn2Dzt\n",
              "2JmjPvBU9Lst+Kqtb0aasP1OtwqHFKvs0GbmWeRyTKaTggcUj/v9/nYYCbvtoSvK8n63D6oUv2+5\n",
              "/oZinnaLy4RHthOzIISv+bQHrgAAy8rFshOKg07dKnoQvCmGADIhEQ4g+acEZaARG+YpbUCllnBI\n",
              "e+nIpObcAAAAPAGen2pD/wAjsrQawBdgU0SjFH67YEOSAbgOe6JizG/mUau8WCxe9VV2+/Di5tDX\n",
              "+7IGzBFv+FYU1BYl8wAAAwtBmoNJ4QpSZTAgn//+tSqABUzIwcgDF3JWHlzM0ye47NcS2OIjdJ5q\n",
              "9C/wJRGUWRjqxrbOlV7IXBYkNGf0oSo9doGbTIKnNC8HFyuLiygfQuI5pmAZmLw9l9SBFF6BAuT7\n",
              "28YjZ8Nj9PNBpSTkRoS7mpJZT6lsdrnfzoHE/ADOXJqd7G4AVNLSqecXoX6P/kuyWY7ahg+U3VpL\n",
              "s9lYMgLJiMkMDvfmZeMSzwvkK9q1nUBzebbTU9dW6oG6w2Z/sA7+yA8onvU9ituE0h/FZFUMynvj\n",
              "B000Ho8flF7GgUtq8k7eRf65ll3PLFWf8Sq8+qx14A8Ir6ZostL5WNLcYbpUKiKUxXN3zZw3taWb\n",
              "5FupgcNhn8b5528op+dE+suXX5QI9wlyqwfrtuNzqqFAg69Y6DJk/I3G96bsWAw+j+CneWYq99KS\n",
              "vBLaCBvncVCQQZSEEZ46J/ZKwKUu5bxi1gaoW74YwtmqhLdK3ob4nVtTuMlthWUhcOJwL/aSROMu\n",
              "W8qTBEDc20/lt/jDwZSIo6X1RzFWY1ZsQQgOyV3VxWcKXB4al10W2BZkC3GN/M932bxoXltSXxse\n",
              "RkAEUkn65Vx27JfmOpJ+yetdD03/oF+6qH+bMQ9UmDF7I2ai7yyneSblnCHOXHR2YGe1LPc6KLos\n",
              "NStXLVhvosZKbfy5Iiw9AFVq/17FxI542e1GJt18WWVmSXM33qD0YFTxkzYxTJIdCSazuO/FqDkw\n",
              "51Abx0kliO3PJSW4pvfxPLnKnmQ7hOWSHNsWAISH/iVUIKBbGxYXmHtCB4x45ID7btiw4euSeaRC\n",
              "cmHD23gqAWJBYIHx63zWgwoA/zBoBJWZU8+7JaGaqd6QBfIrgORpHmlXs23zKgYHnha5e1zR7+bH\n",
              "ZX369KyU+SFF6sSpWFBEW2gHNTp6QLU7G225qeOv42LQ6G87Wd18LfrGWj77k5OED3oMLPilSOxL\n",
              "yUcJ5/ZgAM4AQGhcjHnkoB3FQDPUVLvW6Qrot5dQQhJHoxXtXGSzwflan9s1+PEBtlPMNoj3QAAA\n",
              "AD5BnqFFNEwQ/wAP3lm60B8vlns5BUC5x/jZA4S75qFHu7cv7LnMpgOF/22TDsM9N69jHkIMNh/v\n",
              "FmKt6fKlNQAAACABnsJqQ/8ADidlD+nosgzsciGg+v9eNJvyBOJG4UVUkAAAAZxBmsZJqEFomUwI\n",
              "J//+tSqAApRiDABE0hk5xR0af1ydkDJ0OK8pJ0nOWNdazp1vF34abkYmAXZsemd/6T6al/dFRovW\n",
              "tMBE4xC31RTri1FGPxxf5m0BGs5So3cb+Pa9A/XS5A7BghsjShF9enx8JVHcvIpx6GU4vk7k4EQj\n",
              "ZzZ3quzdYkapJ+YCSH9XsHoSOJbm8NM6y4YBEUE2ETSALIq6oQwoyZScAFzHy1UX0pQSqMuspGFR\n",
              "0nu5ax5ACQ76U7RRpaDEn9YGo1Z2wML3EGXD84WHODcVHAYpTheuMQpwCwwLOr9sWj/SH/k0xYET\n",
              "FYjJoGTdIruLZUSl0T49Czwb53cfjYywyVoXx6zFaJbar4JewkjK0hJ1lJ3/OO3+mIXjHV1SrdE7\n",
              "XCVHNcI62r3S5PC7YxW+ICgMAMfPDdlRQT/tGrOebOU41BMzjMkJcRVvi5nmr6eWe/8QO9AT1Cps\n",
              "4aUfvL73tlAhNMwuziy66LTqjgZy8zFa1E5SEpUXPPqhMJcCY+UyvzuF0zg3K6/LWZDQqZauWN9/\n",
              "64AFAAAAPEGe5EURLBD/AA/eqai1ktvmVrvSgckmJURUEsQWhP0bcX3uetnX2fjSKiMBPWsFXWVp\n",
              "2kfBUw5j+tYqOwAAACEBnwVqQ/8ADidlD+utnDRjZLwiHVyK3ilF7gbf/dhwzCkAAAFTQZsKSahB\n",
              "bJlMCCf//rUqgAVwtXbgCPYQD7T/8L4yO3aSrfFzYJ/5qSExOPRSfpkbJe5Q/cN8m7Ev3OrxHAyO\n",
              "7KiSKFPotp7jTwluhAfBtGOvcQY+ju8XbsUaDTFbn7OyUCwiPzcULVJq+g1JyyC7GxLl0TejWgO1\n",
              "xm65wUqm5M6x482MS0EGlh/duu/u5vgTvrVZc1vE5NXZdlxrYt+fgu9zJbb8OaOW8nRmlVUAC+Jx\n",
              "sp62RXBRPxN1qKQOmv9NkK5JF/z9pSB+A1SyFFSRH3LEBvmi52Q50uH3cfPlIqqJmQ68gmY7VFHc\n",
              "5FWNBMbBnxdUdROA4h8zI2nHjC0zJFRPfh0x2pLPUAjUUjY6g3MoiktPvzQpANDFSPdZDy8Po7vs\n",
              "P0BoEbs3TobDy8pHI3gKr6RMElz6qDXjZr1/7c/MmVUecC77Jlm6Nw0+3EwoSJLhAAAAP0GfKEUV\n",
              "LBD/AA/eqajLAClZ7hk0OsflieJOYxXjnu5APBPmR5H2GckwJIhGLlsz97ktu2MUVdP6cEyodoTC\n",
              "QAAAACkBn0d0Q/8ADiV9vdYV/ezLNqOlzVPVACS7A9UJUnZZJEBsbh8pbYZh4AAAACEBn0lqQ/8A\n",
              "DX+PuvCAAjYq5JyrW7KRL6bfuAj+RCBxmhEAAAAaQZtOSahBbJlMCCX//rUqgACgg5j7TpqAi2YA\n",
              "AAAvQZ9sRRUsEP8AD96pqLWS2+ZWu9KB8Y6nvPP6cjOi9jctAtA5Ik6Vyw5BrhytY3oAAAAhAZ+L\n",
              "dEP/AA1902AwW9xqzsk5VLc4AnsbsSAtNVQftLyBAAAAIQGfjWpD/wANf4+68IACNirknKtbspEv\n",
              "pt+4CP5EIHGaEQAAABdBm5FJqEFsmUwIf//+qZYACgl07WBJwQAAAC9Bn69FFSwQ/wAP3qmotZLb\n",
              "5la70oHxjqe88/pyM6L2Ny0C0DkiTpXLDkGuHK1jegAAACEBn9BqQ/8ADX+PuvCAAjYq5JyrW7KR\n",
              "L6bfuAj+RCBxmhAAAAVGbW9vdgAAAGxtdmhkAAAAAAAAAAAAAAAAAAAD6AAAJxAAAQAAAQAAAAAA\n",
              "AAAAAAAAAAEAAAAAAAAAAAAAAAAAAAABAAAAAAAAAAAAAAAAAABAAAAAAAAAAAAAAAAAAAAAAAAA\n",
              "AAAAAAAAAAAAAAAAAgAABHB0cmFrAAAAXHRraGQAAAADAAAAAAAAAAAAAAABAAAAAAAAJxAAAAAA\n",
              "AAAAAAAAAAAAAAAAAAEAAAAAAAAAAAAAAAAAAAABAAAAAAAAAAAAAAAAAABAAAAAAbAAAAEgAAAA\n",
              "AAAkZWR0cwAAABxlbHN0AAAAAAAAAAEAACcQAAAQAAABAAAAAAPobWRpYQAAACBtZGhkAAAAAAAA\n",
              "AAAAAAAAAAAoAAABkABVxAAAAAAALWhkbHIAAAAAAAAAAHZpZGUAAAAAAAAAAAAAAABWaWRlb0hh\n",
              "bmRsZXIAAAADk21pbmYAAAAUdm1oZAAAAAEAAAAAAAAAAAAAACRkaW5mAAAAHGRyZWYAAAAAAAAA\n",
              "AQAAAAx1cmwgAAAAAQAAA1NzdGJsAAAAs3N0c2QAAAAAAAAAAQAAAKNhdmMxAAAAAAAAAAEAAAAA\n",
              "AAAAAAAAAAAAAAAAAbABIABIAAAASAAAAAAAAAABAAAAAAAAAAAAAAAAAAAAAAAAAAAAAAAAAAAA\n",
              "AAAAAAAAGP//AAAAMWF2Y0MBZAAV/+EAGGdkABWs2UGwloQAAAMABAAAAwAoPFi2WAEABmjr48si\n",
              "wAAAABx1dWlka2hA8l8kT8W6OaUbzwMj8wAAAAAAAAAYc3R0cwAAAAAAAAABAAAAMgAACAAAAAAU\n",
              "c3RzcwAAAAAAAAABAAAAAQAAAWBjdHRzAAAAAAAAACoAAAABAAAQAAAAAAEAACgAAAAAAQAAEAAA\n",
              "AAABAAAAAAAAAAEAAAgAAAAAAQAAGAAAAAABAAAIAAAAAAMAABAAAAAAAQAAKAAAAAABAAAQAAAA\n",
              "AAEAAAAAAAAAAQAACAAAAAABAAAoAAAAAAEAABAAAAAAAQAAAAAAAAABAAAIAAAAAAEAABgAAAAA\n",
              "AQAACAAAAAABAAAgAAAAAAIAAAgAAAAAAQAAGAAAAAABAAAIAAAAAAEAACAAAAAAAgAACAAAAAAB\n",
              "AAAgAAAAAAIAAAgAAAAAAQAAGAAAAAABAAAIAAAAAAEAACAAAAAAAgAACAAAAAABAAAgAAAAAAIA\n",
              "AAgAAAAAAQAAKAAAAAABAAAQAAAAAAEAAAAAAAAAAQAACAAAAAABAAAoAAAAAAEAABAAAAAAAQAA\n",
              "AAAAAAABAAAIAAAAAAEAACAAAAAAAgAACAAAAAAcc3RzYwAAAAAAAAABAAAAAQAAADIAAAABAAAA\n",
              "3HN0c3oAAAAAAAAAAAAAADIAACmAAAAUzAAAAuEAAAIHAAAB+gAACYEAAAHvAAAGpgAAB9kAAAcH\n",
              "AAAOZgAAAgsAAAGzAAABzAAADjoAAAHXAAABRAAAAPYAAAb1AAAAxgAABicAAAA7AAAAIAAAAqEA\n",
              "AAA5AAAFUwAAAD4AAAAfAAADzQAAAEEAAAAkAAAB8wAAAEAAAAMPAAAAQgAAACQAAAGgAAAAQAAA\n",
              "ACUAAAFXAAAAQwAAAC0AAAAlAAAAHgAAADMAAAAlAAAAJQAAABsAAAAzAAAAJQAAABRzdGNvAAAA\n",
              "AAAAAAEAAAAsAAAAYnVkdGEAAABabWV0YQAAAAAAAAAhaGRscgAAAAAAAAAAbWRpcmFwcGwAAAAA\n",
              "AAAAAAAAAAAtaWxzdAAAACWpdG9vAAAAHWRhdGEAAAABAAAAAExhdmY1Ny44My4xMDA=\n",
              "\">\n",
              "  Your browser does not support the video tag.\n",
              "</video>"
            ]
          },
          "metadata": {}
        }
      ]
    },
    {
      "cell_type": "code",
      "source": [
        "len(w)"
      ],
      "metadata": {
        "colab": {
          "base_uri": "https://localhost:8080/"
        },
        "id": "mrSgytHrfwxb",
        "outputId": "66c11c94-18e7-49b8-c97f-8d99a7822270"
      },
      "execution_count": null,
      "outputs": [
        {
          "output_type": "execute_result",
          "data": {
            "text/plain": [
              "3"
            ]
          },
          "metadata": {},
          "execution_count": 567
        }
      ]
    },
    {
      "cell_type": "code",
      "source": [
        "# def predict(weights, test):\n",
        "#   activation = weights[0]\n",
        "#   for i in range(1, len(weights)):\n",
        "#     activation += weights[i]*test[(i-1)]\n",
        "#   return 1.0 if activation > 0.0 else 0.0"
      ],
      "metadata": {
        "id": "kfwx1tsAfyfi"
      },
      "execution_count": null,
      "outputs": []
    },
    {
      "cell_type": "markdown",
      "source": [
        "prediction function"
      ],
      "metadata": {
        "id": "W2dS_FDbs-2L"
      }
    },
    {
      "cell_type": "code",
      "source": [
        "def predict(weights, test):\n",
        "  activation = weights[0] + weights[1]*test[0] + weights[2]*test[1]\n",
        "  return 1.0 if activation > 0.0 else 0.0"
      ],
      "metadata": {
        "id": "oYtX0G5zVYHU"
      },
      "execution_count": null,
      "outputs": []
    },
    {
      "cell_type": "code",
      "source": [
        "y_pred = []\n",
        "for i in range(len(X_test)):\n",
        "  y_pred.append(predict(w, X_test[i]))"
      ],
      "metadata": {
        "id": "osH-7_KwVZV5"
      },
      "execution_count": null,
      "outputs": []
    },
    {
      "cell_type": "markdown",
      "source": [
        "Creating Confusion Matrix"
      ],
      "metadata": {
        "id": "LuklPU_ctC97"
      }
    },
    {
      "cell_type": "code",
      "source": [
        "cf_matrix = confusion_matrix(y_test, y_pred)\n",
        "\n",
        "print(cf_matrix)"
      ],
      "metadata": {
        "colab": {
          "base_uri": "https://localhost:8080/"
        },
        "id": "E2ZxEhutVZN8",
        "outputId": "38507120-1bce-4e81-f77d-111a6d77a2cf"
      },
      "execution_count": null,
      "outputs": [
        {
          "output_type": "stream",
          "name": "stdout",
          "text": [
            "[[90  0]\n",
            " [ 0 75]]\n"
          ]
        }
      ]
    },
    {
      "cell_type": "code",
      "source": [
        "# ax = sns.heatmap(cf_matrix, annot=True, cmap='Blues')\n",
        "\n",
        "fig, ax = plt.subplots(figsize=(6,5))\n",
        "sns.heatmap(cf_matrix, linewidths=1, annot=True, ax=ax, fmt='g')\n",
        "\n",
        "ax.set_title('Confusion Matrix\\n\\n');\n",
        "ax.set_xlabel('\\nPredicted Values')\n",
        "ax.set_ylabel('Actual Values ');\n",
        "\n",
        "# ax.set_title('Seaborn Confusion Matrix\\n\\n');\n",
        "# ax.set_xlabel('\\nPredicted Values')\n",
        "# ax.set_ylabel('Actual Values ');\n",
        "\n",
        "## Ticket labels - List must be in alphabetical order\n",
        "ax.xaxis.set_ticklabels(['False','True'])\n",
        "ax.yaxis.set_ticklabels(['False','True'])\n",
        "\n",
        "## Display the visualization of the Confusion Matrix.\n",
        "plt.show()"
      ],
      "metadata": {
        "colab": {
          "base_uri": "https://localhost:8080/",
          "height": 391
        },
        "id": "VkE6F-jiVZFW",
        "outputId": "bb95b5cf-8b74-437f-b4a3-e50fbd5d75c5"
      },
      "execution_count": null,
      "outputs": [
        {
          "output_type": "display_data",
          "data": {
            "text/plain": [
              "<Figure size 432x360 with 2 Axes>"
            ],
            "image/png": "[encoded data removed]"
          },
          "metadata": {
            "needs_background": "light"
          }
        }
      ]
    },
    {
      "cell_type": "markdown",
      "source": [
        "Other metircs for classification"
      ],
      "metadata": {
        "id": "JmVD3sQ9tHqk"
      }
    },
    {
      "cell_type": "code",
      "source": [
        "print('Accuracy: %.3f' % accuracy_score(y_test, y_pred))\n",
        "print('Precision: %.3f' % precision_score(y_test, y_pred))\n",
        "print('Recall: %.3f' % recall_score(y_test, y_pred))\n",
        "print('f1 score: %.3f' % f1_score(y_test, y_pred))"
      ],
      "metadata": {
        "colab": {
          "base_uri": "https://localhost:8080/"
        },
        "id": "XKSYIWSWIqt_",
        "outputId": "b875e902-10b4-476b-f71e-593fd1b8e449"
      },
      "execution_count": null,
      "outputs": [
        {
          "output_type": "stream",
          "name": "stdout",
          "text": [
            "Accuracy: 1.000\n",
            "Precision: 1.000\n",
            "Recall: 1.000\n",
            "f1 score: 1.000\n"
          ]
        }
      ]
    },
    {
      "cell_type": "markdown",
      "source": [
        "# Iris Data"
      ],
      "metadata": {
        "id": "gdsE9hcJWj7R"
      }
    },
    {
      "cell_type": "markdown",
      "source": [
        "Import Data"
      ],
      "metadata": {
        "id": "czru9cMYWxNl"
      }
    },
    {
      "cell_type": "code",
      "source": [
        "df = pd.read_csv('https://archive.ics.uci.edu/ml/machine-learning-databases/iris/iris.data', header = None)"
      ],
      "metadata": {
        "id": "vi-3GfRRVY3K"
      },
      "execution_count": null,
      "outputs": []
    },
    {
      "cell_type": "code",
      "source": [
        "df.head()"
      ],
      "metadata": {
        "colab": {
          "base_uri": "https://localhost:8080/",
          "height": 206
        },
        "id": "auFb9cxSWznl",
        "outputId": "1ac17109-041d-4191-da0d-66f469dc2215"
      },
      "execution_count": null,
      "outputs": [
        {
          "output_type": "execute_result",
          "data": {
            "text/plain": [
              "     0    1    2    3            4\n",
              "0  5.1  3.5  1.4  0.2  Iris-setosa\n",
              "1  4.9  3.0  1.4  0.2  Iris-setosa\n",
              "2  4.7  3.2  1.3  0.2  Iris-setosa\n",
              "3  4.6  3.1  1.5  0.2  Iris-setosa\n",
              "4  5.0  3.6  1.4  0.2  Iris-setosa"
            ],
            "text/html": [
              "\n",
              "  <div id=\"df-e140a949-2406-4e1f-8f37-7c0d20b02806\">\n",
              "    <div class=\"colab-df-container\">\n",
              "      <div>\n",
              "<style scoped>\n",
              "    .dataframe tbody tr th:only-of-type {\n",
              "        vertical-align: middle;\n",
              "    }\n",
              "\n",
              "    .dataframe tbody tr th {\n",
              "        vertical-align: top;\n",
              "    }\n",
              "\n",
              "    .dataframe thead th {\n",
              "        text-align: right;\n",
              "    }\n",
              "</style>\n",
              "<table border=\"1\" class=\"dataframe\">\n",
              "  <thead>\n",
              "    <tr style=\"text-align: right;\">\n",
              "      <th></th>\n",
              "      <th>0</th>\n",
              "      <th>1</th>\n",
              "      <th>2</th>\n",
              "      <th>3</th>\n",
              "      <th>4</th>\n",
              "    </tr>\n",
              "  </thead>\n",
              "  <tbody>\n",
              "    <tr>\n",
              "      <th>0</th>\n",
              "      <td>5.1</td>\n",
              "      <td>3.5</td>\n",
              "      <td>1.4</td>\n",
              "      <td>0.2</td>\n",
              "      <td>Iris-setosa</td>\n",
              "    </tr>\n",
              "    <tr>\n",
              "      <th>1</th>\n",
              "      <td>4.9</td>\n",
              "      <td>3.0</td>\n",
              "      <td>1.4</td>\n",
              "      <td>0.2</td>\n",
              "      <td>Iris-setosa</td>\n",
              "    </tr>\n",
              "    <tr>\n",
              "      <th>2</th>\n",
              "      <td>4.7</td>\n",
              "      <td>3.2</td>\n",
              "      <td>1.3</td>\n",
              "      <td>0.2</td>\n",
              "      <td>Iris-setosa</td>\n",
              "    </tr>\n",
              "    <tr>\n",
              "      <th>3</th>\n",
              "      <td>4.6</td>\n",
              "      <td>3.1</td>\n",
              "      <td>1.5</td>\n",
              "      <td>0.2</td>\n",
              "      <td>Iris-setosa</td>\n",
              "    </tr>\n",
              "    <tr>\n",
              "      <th>4</th>\n",
              "      <td>5.0</td>\n",
              "      <td>3.6</td>\n",
              "      <td>1.4</td>\n",
              "      <td>0.2</td>\n",
              "      <td>Iris-setosa</td>\n",
              "    </tr>\n",
              "  </tbody>\n",
              "</table>\n",
              "</div>\n",
              "      <button class=\"colab-df-convert\" onclick=\"convertToInteractive('df-e140a949-2406-4e1f-8f37-7c0d20b02806')\"\n",
              "              title=\"Convert this dataframe to an interactive table.\"\n",
              "              style=\"display:none;\">\n",
              "        \n",
              "  <svg xmlns=\"http://www.w3.org/2000/svg\" height=\"24px\"viewBox=\"0 0 24 24\"\n",
              "       width=\"24px\">\n",
              "    <path d=\"M0 0h24v24H0V0z\" fill=\"none\"/>\n",
              "    <path d=\"M18.56 5.44l.94 2.06.94-2.06 2.06-.94-2.06-.94-.94-2.06-.94 2.06-2.06.94zm-11 1L8.5 8.5l.94-2.06 2.06-.94-2.06-.94L8.5 2.5l-.94 2.06-2.06.94zm10 10l.94 2.06.94-2.06 2.06-.94-2.06-.94-.94-2.06-.94 2.06-2.06.94z\"/><path d=\"M17.41 7.96l-1.37-1.37c-.4-.4-.92-.59-1.43-.59-.52 0-1.04.2-1.43.59L10.3 9.45l-7.72 7.72c-.78.78-.78 2.05 0 2.83L4 21.41c.39.39.9.59 1.41.59.51 0 1.02-.2 1.41-.59l7.78-7.78 2.81-2.81c.8-.78.8-2.07 0-2.86zM5.41 20L4 18.59l7.72-7.72 1.47 1.35L5.41 20z\"/>\n",
              "  </svg>\n",
              "      </button>\n",
              "      \n",
              "  <style>\n",
              "    .colab-df-container {\n",
              "      display:flex;\n",
              "      flex-wrap:wrap;\n",
              "      gap: 12px;\n",
              "    }\n",
              "\n",
              "    .colab-df-convert {\n",
              "      background-color: #E8F0FE;\n",
              "      border: none;\n",
              "      border-radius: 50%;\n",
              "      cursor: pointer;\n",
              "      display: none;\n",
              "      fill: #1967D2;\n",
              "      height: 32px;\n",
              "      padding: 0 0 0 0;\n",
              "      width: 32px;\n",
              "    }\n",
              "\n",
              "    .colab-df-convert:hover {\n",
              "      background-color: #E2EBFA;\n",
              "      box-shadow: 0px 1px 2px rgba(60, 64, 67, 0.3), 0px 1px 3px 1px rgba(60, 64, 67, 0.15);\n",
              "      fill: #174EA6;\n",
              "    }\n",
              "\n",
              "    [theme=dark] .colab-df-convert {\n",
              "      background-color: #3B4455;\n",
              "      fill: #D2E3FC;\n",
              "    }\n",
              "\n",
              "    [theme=dark] .colab-df-convert:hover {\n",
              "      background-color: #434B5C;\n",
              "      box-shadow: 0px 1px 3px 1px rgba(0, 0, 0, 0.15);\n",
              "      filter: drop-shadow(0px 1px 2px rgba(0, 0, 0, 0.3));\n",
              "      fill: #FFFFFF;\n",
              "    }\n",
              "  </style>\n",
              "\n",
              "      <script>\n",
              "        const buttonEl =\n",
              "          document.querySelector('#df-e140a949-2406-4e1f-8f37-7c0d20b02806 button.colab-df-convert');\n",
              "        buttonEl.style.display =\n",
              "          google.colab.kernel.accessAllowed ? 'block' : 'none';\n",
              "\n",
              "        async function convertToInteractive(key) {\n",
              "          const element = document.querySelector('#df-e140a949-2406-4e1f-8f37-7c0d20b02806');\n",
              "          const dataTable =\n",
              "            await google.colab.kernel.invokeFunction('convertToInteractive',\n",
              "                                                     [key], {});\n",
              "          if (!dataTable) return;\n",
              "\n",
              "          const docLinkHtml = 'Like what you see? Visit the ' +\n",
              "            '<a target=\"_blank\" href=https://colab.research.google.com/notebooks/data_table.ipynb>data table notebook</a>'\n",
              "            + ' to learn more about interactive tables.';\n",
              "          element.innerHTML = '';\n",
              "          dataTable['output_type'] = 'display_data';\n",
              "          await google.colab.output.renderOutput(dataTable, element);\n",
              "          const docLink = document.createElement('div');\n",
              "          docLink.innerHTML = docLinkHtml;\n",
              "          element.appendChild(docLink);\n",
              "        }\n",
              "      </script>\n",
              "    </div>\n",
              "  </div>\n",
              "  "
            ]
          },
          "metadata": {},
          "execution_count": 575
        }
      ]
    },
    {
      "cell_type": "code",
      "source": [
        "df[4].value_counts()"
      ],
      "metadata": {
        "colab": {
          "base_uri": "https://localhost:8080/"
        },
        "id": "Xz6jOP1yW3CO",
        "outputId": "885d9c85-807a-42c3-b4f4-32626dfc8a1f"
      },
      "execution_count": null,
      "outputs": [
        {
          "output_type": "execute_result",
          "data": {
            "text/plain": [
              "Iris-setosa        50\n",
              "Iris-versicolor    50\n",
              "Iris-virginica     50\n",
              "Name: 4, dtype: int64"
            ]
          },
          "metadata": {},
          "execution_count": 576
        }
      ]
    },
    {
      "cell_type": "code",
      "source": [
        "for i in range(len(df)):\n",
        "  if df[4][i] == 'Iris-setosa':\n",
        "    df[4][i] = 1\n",
        "  else:\n",
        "    df[4][i] = 0"
      ],
      "metadata": {
        "colab": {
          "base_uri": "https://localhost:8080/"
        },
        "id": "1hjNMk10W7Dk",
        "outputId": "16f2617c-8da5-48ee-e121-41f9b301837c"
      },
      "execution_count": null,
      "outputs": [
        {
          "output_type": "stream",
          "name": "stderr",
          "text": [
            "/usr/local/lib/python3.7/dist-packages/ipykernel_launcher.py:3: SettingWithCopyWarning: \n",
            "A value is trying to be set on a copy of a slice from a DataFrame\n",
            "\n",
            "See the caveats in the documentation: https://pandas.pydata.org/pandas-docs/stable/user_guide/indexing.html#returning-a-view-versus-a-copy\n",
            "  This is separate from the ipykernel package so we can avoid doing imports until\n",
            "/usr/local/lib/python3.7/dist-packages/ipykernel_launcher.py:5: SettingWithCopyWarning: \n",
            "A value is trying to be set on a copy of a slice from a DataFrame\n",
            "\n",
            "See the caveats in the documentation: https://pandas.pydata.org/pandas-docs/stable/user_guide/indexing.html#returning-a-view-versus-a-copy\n",
            "  \"\"\"\n"
          ]
        }
      ]
    },
    {
      "cell_type": "code",
      "source": [
        "df.head()"
      ],
      "metadata": {
        "colab": {
          "base_uri": "https://localhost:8080/",
          "height": 206
        },
        "id": "uVj2kGtdXCf2",
        "outputId": "b83ca68d-4d86-41dc-c1a1-716bf2334ad2"
      },
      "execution_count": null,
      "outputs": [
        {
          "output_type": "execute_result",
          "data": {
            "text/plain": [
              "     0    1    2    3  4\n",
              "0  5.1  3.5  1.4  0.2  1\n",
              "1  4.9  3.0  1.4  0.2  1\n",
              "2  4.7  3.2  1.3  0.2  1\n",
              "3  4.6  3.1  1.5  0.2  1\n",
              "4  5.0  3.6  1.4  0.2  1"
            ],
            "text/html": [
              "\n",
              "  <div id=\"df-2c5354d5-6316-41c3-8291-80c53c4a949d\">\n",
              "    <div class=\"colab-df-container\">\n",
              "      <div>\n",
              "<style scoped>\n",
              "    .dataframe tbody tr th:only-of-type {\n",
              "        vertical-align: middle;\n",
              "    }\n",
              "\n",
              "    .dataframe tbody tr th {\n",
              "        vertical-align: top;\n",
              "    }\n",
              "\n",
              "    .dataframe thead th {\n",
              "        text-align: right;\n",
              "    }\n",
              "</style>\n",
              "<table border=\"1\" class=\"dataframe\">\n",
              "  <thead>\n",
              "    <tr style=\"text-align: right;\">\n",
              "      <th></th>\n",
              "      <th>0</th>\n",
              "      <th>1</th>\n",
              "      <th>2</th>\n",
              "      <th>3</th>\n",
              "      <th>4</th>\n",
              "    </tr>\n",
              "  </thead>\n",
              "  <tbody>\n",
              "    <tr>\n",
              "      <th>0</th>\n",
              "      <td>5.1</td>\n",
              "      <td>3.5</td>\n",
              "      <td>1.4</td>\n",
              "      <td>0.2</td>\n",
              "      <td>1</td>\n",
              "    </tr>\n",
              "    <tr>\n",
              "      <th>1</th>\n",
              "      <td>4.9</td>\n",
              "      <td>3.0</td>\n",
              "      <td>1.4</td>\n",
              "      <td>0.2</td>\n",
              "      <td>1</td>\n",
              "    </tr>\n",
              "    <tr>\n",
              "      <th>2</th>\n",
              "      <td>4.7</td>\n",
              "      <td>3.2</td>\n",
              "      <td>1.3</td>\n",
              "      <td>0.2</td>\n",
              "      <td>1</td>\n",
              "    </tr>\n",
              "    <tr>\n",
              "      <th>3</th>\n",
              "      <td>4.6</td>\n",
              "      <td>3.1</td>\n",
              "      <td>1.5</td>\n",
              "      <td>0.2</td>\n",
              "      <td>1</td>\n",
              "    </tr>\n",
              "    <tr>\n",
              "      <th>4</th>\n",
              "      <td>5.0</td>\n",
              "      <td>3.6</td>\n",
              "      <td>1.4</td>\n",
              "      <td>0.2</td>\n",
              "      <td>1</td>\n",
              "    </tr>\n",
              "  </tbody>\n",
              "</table>\n",
              "</div>\n",
              "      <button class=\"colab-df-convert\" onclick=\"convertToInteractive('df-2c5354d5-6316-41c3-8291-80c53c4a949d')\"\n",
              "              title=\"Convert this dataframe to an interactive table.\"\n",
              "              style=\"display:none;\">\n",
              "        \n",
              "  <svg xmlns=\"http://www.w3.org/2000/svg\" height=\"24px\"viewBox=\"0 0 24 24\"\n",
              "       width=\"24px\">\n",
              "    <path d=\"M0 0h24v24H0V0z\" fill=\"none\"/>\n",
              "    <path d=\"M18.56 5.44l.94 2.06.94-2.06 2.06-.94-2.06-.94-.94-2.06-.94 2.06-2.06.94zm-11 1L8.5 8.5l.94-2.06 2.06-.94-2.06-.94L8.5 2.5l-.94 2.06-2.06.94zm10 10l.94 2.06.94-2.06 2.06-.94-2.06-.94-.94-2.06-.94 2.06-2.06.94z\"/><path d=\"M17.41 7.96l-1.37-1.37c-.4-.4-.92-.59-1.43-.59-.52 0-1.04.2-1.43.59L10.3 9.45l-7.72 7.72c-.78.78-.78 2.05 0 2.83L4 21.41c.39.39.9.59 1.41.59.51 0 1.02-.2 1.41-.59l7.78-7.78 2.81-2.81c.8-.78.8-2.07 0-2.86zM5.41 20L4 18.59l7.72-7.72 1.47 1.35L5.41 20z\"/>\n",
              "  </svg>\n",
              "      </button>\n",
              "      \n",
              "  <style>\n",
              "    .colab-df-container {\n",
              "      display:flex;\n",
              "      flex-wrap:wrap;\n",
              "      gap: 12px;\n",
              "    }\n",
              "\n",
              "    .colab-df-convert {\n",
              "      background-color: #E8F0FE;\n",
              "      border: none;\n",
              "      border-radius: 50%;\n",
              "      cursor: pointer;\n",
              "      display: none;\n",
              "      fill: #1967D2;\n",
              "      height: 32px;\n",
              "      padding: 0 0 0 0;\n",
              "      width: 32px;\n",
              "    }\n",
              "\n",
              "    .colab-df-convert:hover {\n",
              "      background-color: #E2EBFA;\n",
              "      box-shadow: 0px 1px 2px rgba(60, 64, 67, 0.3), 0px 1px 3px 1px rgba(60, 64, 67, 0.15);\n",
              "      fill: #174EA6;\n",
              "    }\n",
              "\n",
              "    [theme=dark] .colab-df-convert {\n",
              "      background-color: #3B4455;\n",
              "      fill: #D2E3FC;\n",
              "    }\n",
              "\n",
              "    [theme=dark] .colab-df-convert:hover {\n",
              "      background-color: #434B5C;\n",
              "      box-shadow: 0px 1px 3px 1px rgba(0, 0, 0, 0.15);\n",
              "      filter: drop-shadow(0px 1px 2px rgba(0, 0, 0, 0.3));\n",
              "      fill: #FFFFFF;\n",
              "    }\n",
              "  </style>\n",
              "\n",
              "      <script>\n",
              "        const buttonEl =\n",
              "          document.querySelector('#df-2c5354d5-6316-41c3-8291-80c53c4a949d button.colab-df-convert');\n",
              "        buttonEl.style.display =\n",
              "          google.colab.kernel.accessAllowed ? 'block' : 'none';\n",
              "\n",
              "        async function convertToInteractive(key) {\n",
              "          const element = document.querySelector('#df-2c5354d5-6316-41c3-8291-80c53c4a949d');\n",
              "          const dataTable =\n",
              "            await google.colab.kernel.invokeFunction('convertToInteractive',\n",
              "                                                     [key], {});\n",
              "          if (!dataTable) return;\n",
              "\n",
              "          const docLinkHtml = 'Like what you see? Visit the ' +\n",
              "            '<a target=\"_blank\" href=https://colab.research.google.com/notebooks/data_table.ipynb>data table notebook</a>'\n",
              "            + ' to learn more about interactive tables.';\n",
              "          element.innerHTML = '';\n",
              "          dataTable['output_type'] = 'display_data';\n",
              "          await google.colab.output.renderOutput(dataTable, element);\n",
              "          const docLink = document.createElement('div');\n",
              "          docLink.innerHTML = docLinkHtml;\n",
              "          element.appendChild(docLink);\n",
              "        }\n",
              "      </script>\n",
              "    </div>\n",
              "  </div>\n",
              "  "
            ]
          },
          "metadata": {},
          "execution_count": 578
        }
      ]
    },
    {
      "cell_type": "markdown",
      "source": [
        "Creating X, y from the dataframe as numpy arrays"
      ],
      "metadata": {
        "id": "EkkVTnyeXUiR"
      }
    },
    {
      "cell_type": "code",
      "source": [
        "y = df[4].to_numpy(dtype = 'int')\n",
        "X = (df.drop([4], axis = 1)).to_numpy()"
      ],
      "metadata": {
        "id": "zrR_D2eHXLrE"
      },
      "execution_count": null,
      "outputs": []
    },
    {
      "cell_type": "markdown",
      "source": [
        "Splitting the train and test sets from X and y"
      ],
      "metadata": {
        "id": "UnnNNXugXkKT"
      }
    },
    {
      "cell_type": "code",
      "source": [
        "X_train, X_test, y_train, y_test = train_test_split(X, y, test_size = 0.33, random_state = 42)\n",
        "print(X_train.shape)\n",
        "print(X_test.shape)\n",
        "print(y_train.shape)\n",
        "print(y_test.shape)"
      ],
      "metadata": {
        "colab": {
          "base_uri": "https://localhost:8080/"
        },
        "id": "nRbP1-3LXdjH",
        "outputId": "e33fc917-d4d7-4007-efd5-65d8123751cf"
      },
      "execution_count": null,
      "outputs": [
        {
          "output_type": "stream",
          "name": "stdout",
          "text": [
            "(100, 4)\n",
            "(50, 4)\n",
            "(100,)\n",
            "(50,)\n"
          ]
        }
      ]
    },
    {
      "cell_type": "markdown",
      "source": [
        "prediction function"
      ],
      "metadata": {
        "id": "pDEyjS5qtQGj"
      }
    },
    {
      "cell_type": "code",
      "source": [
        "def predict_(weights, test):\n",
        "  activation = weights[0] + weights[1]*test[0] + weights[2]*test[1] + weights[3]*test[2] + weights[4]*test[3]\n",
        "  return 1.0 if activation > 0.0 else 0.0"
      ],
      "metadata": {
        "id": "7jO247aDXptF"
      },
      "execution_count": null,
      "outputs": []
    },
    {
      "cell_type": "code",
      "source": [
        "w, miss_l = perceptron(X_train, y_train, 0.1, 50)"
      ],
      "metadata": {
        "id": "T5dACccKXtGC"
      },
      "execution_count": null,
      "outputs": []
    },
    {
      "cell_type": "code",
      "source": [],
      "metadata": {
        "id": "YdA101cglTcC"
      },
      "execution_count": null,
      "outputs": []
    },
    {
      "cell_type": "markdown",
      "source": [
        "Plotting Error vs. Iteration Curve"
      ],
      "metadata": {
        "id": "ADVg_nxjtUd7"
      }
    },
    {
      "cell_type": "code",
      "source": [
        "fig = plt.figure(figsize=(20,5), dpi = 100)\n",
        "plt.plot(miss_l)\n",
        "plt.title('Error vs. Iteration Curve')\n",
        "plt.xlabel('Iteration')\n",
        "plt.ylabel('Error( number of misclassified points)')"
      ],
      "metadata": {
        "colab": {
          "base_uri": "https://localhost:8080/",
          "height": 440
        },
        "outputId": "aac715da-c67d-4ac0-fd65-51a7ac71de2a",
        "id": "DL30Q1VTlT70"
      },
      "execution_count": null,
      "outputs": [
        {
          "output_type": "execute_result",
          "data": {
            "text/plain": [
              "Text(0, 0.5, 'Error( number of misclassified points)')"
            ]
          },
          "metadata": {},
          "execution_count": 583
        },
        {
          "output_type": "display_data",
          "data": {
            "text/plain": [
              "<Figure size 2000x500 with 1 Axes>"
            ],
            "image/png": "[encoded data removed]"
          },
          "metadata": {
            "needs_background": "light"
          }
        }
      ]
    },
    {
      "cell_type": "code",
      "source": [
        "y_pred = []\n",
        "for i in range(len(X_test)):\n",
        "  y_pred.append(predict_(w, X_test[i]))"
      ],
      "metadata": {
        "id": "EuFoNEerX29J"
      },
      "execution_count": null,
      "outputs": []
    },
    {
      "cell_type": "markdown",
      "source": [
        "Generate Confusion Matric"
      ],
      "metadata": {
        "id": "vmZrOwJPX_1h"
      }
    },
    {
      "cell_type": "code",
      "source": [
        "cf_matrix = confusion_matrix(y_test, y_pred)\n",
        "\n",
        "print(cf_matrix)"
      ],
      "metadata": {
        "colab": {
          "base_uri": "https://localhost:8080/"
        },
        "id": "JORf3O1VX6s5",
        "outputId": "02df8cd0-c935-4acb-b11c-5d60e4884001"
      },
      "execution_count": null,
      "outputs": [
        {
          "output_type": "stream",
          "name": "stdout",
          "text": [
            "[[31  0]\n",
            " [ 0 19]]\n"
          ]
        }
      ]
    },
    {
      "cell_type": "code",
      "source": [
        "fig, ax = plt.subplots(figsize=(6,5))\n",
        "sns.heatmap(cf_matrix, linewidths=1, annot=True, ax=ax, fmt='g')\n",
        "\n",
        "ax.set_title('Confusion Matrix\\n\\n');\n",
        "ax.set_xlabel('\\nPredicted Values')\n",
        "ax.set_ylabel('Actual Values ');\n",
        "\n",
        "## Ticket labels - List must be in alphabetical order\n",
        "ax.xaxis.set_ticklabels(['False','True'])\n",
        "ax.yaxis.set_ticklabels(['False','True'])\n",
        "\n",
        "## Display the visualization of the Confusion Matrix.\n",
        "plt.show()"
      ],
      "metadata": {
        "colab": {
          "base_uri": "https://localhost:8080/",
          "height": 391
        },
        "id": "40kpl55KYCHX",
        "outputId": "907c4c08-4aed-413d-a3df-30fa8261a785"
      },
      "execution_count": null,
      "outputs": [
        {
          "output_type": "display_data",
          "data": {
            "text/plain": [
              "<Figure size 432x360 with 2 Axes>"
            ],
            "image/png": "[encoded data removed]"
          },
          "metadata": {
            "needs_background": "light"
          }
        }
      ]
    },
    {
      "cell_type": "code",
      "source": [
        "print('Accuracy: %.3f' % accuracy_score(y_test, y_pred))\n",
        "print('Precision: %.3f' % precision_score(y_test, y_pred))\n",
        "print('Recall: %.3f' % recall_score(y_test, y_pred))\n",
        "print('f1 score: %.3f' % f1_score(y_test, y_pred))"
      ],
      "metadata": {
        "colab": {
          "base_uri": "https://localhost:8080/"
        },
        "id": "4nMzNAvxYGgI",
        "outputId": "a7ae3a42-2b1b-4f1f-ee8b-728a4ade767b"
      },
      "execution_count": null,
      "outputs": [
        {
          "output_type": "stream",
          "name": "stdout",
          "text": [
            "Accuracy: 1.000\n",
            "Precision: 1.000\n",
            "Recall: 1.000\n",
            "f1 score: 1.000\n"
          ]
        }
      ]
    },
    {
      "cell_type": "code",
      "source": [],
      "metadata": {
        "id": "VcKQBH_WYLgM"
      },
      "execution_count": null,
      "outputs": []
    }
  ]
}